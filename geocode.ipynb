{
 "cells": [
  {
   "cell_type": "code",
   "execution_count": 1,
   "id": "364d93d5-1189-4819-b0af-a551906ca9b5",
   "metadata": {
    "tags": []
   },
   "outputs": [],
   "source": [
    "import pandas as pd\n",
    "\n",
    "import warnings\n",
    "warnings.filterwarnings(\"ignore\")"
   ]
  },
  {
   "cell_type": "markdown",
   "id": "60ce97d7-6321-464d-beb0-7f5d371df18d",
   "metadata": {
    "jp-MarkdownHeadingCollapsed": true,
    "tags": []
   },
   "source": [
    "# 1. Создание карты с кластерными метками:"
   ]
  },
  {
   "cell_type": "markdown",
   "id": "c130b768-9eec-4487-83c5-7c6e05f41a7d",
   "metadata": {},
   "source": [
    "*Кластерные метки* - это метки на карте, которые при отдалении схлопываются в объединенные кружочки (для экономии ресурса)"
   ]
  },
  {
   "cell_type": "code",
   "execution_count": 2,
   "id": "66f96aae-062b-46b4-9d43-0507d9894fcf",
   "metadata": {
    "tags": []
   },
   "outputs": [
    {
     "data": {
      "text/html": [
       "<div>\n",
       "<style scoped>\n",
       "    .dataframe tbody tr th:only-of-type {\n",
       "        vertical-align: middle;\n",
       "    }\n",
       "\n",
       "    .dataframe tbody tr th {\n",
       "        vertical-align: top;\n",
       "    }\n",
       "\n",
       "    .dataframe thead th {\n",
       "        text-align: right;\n",
       "    }\n",
       "</style>\n",
       "<table border=\"1\" class=\"dataframe\">\n",
       "  <thead>\n",
       "    <tr style=\"text-align: right;\">\n",
       "      <th></th>\n",
       "      <th>latitude</th>\n",
       "      <th>longitude</th>\n",
       "      <th>name</th>\n",
       "    </tr>\n",
       "  </thead>\n",
       "  <tbody>\n",
       "    <tr>\n",
       "      <th>0</th>\n",
       "      <td>40.7128</td>\n",
       "      <td>-74.0060</td>\n",
       "      <td>New York</td>\n",
       "    </tr>\n",
       "    <tr>\n",
       "      <th>1</th>\n",
       "      <td>34.0522</td>\n",
       "      <td>-118.2437</td>\n",
       "      <td>Los Angeles</td>\n",
       "    </tr>\n",
       "    <tr>\n",
       "      <th>2</th>\n",
       "      <td>41.8781</td>\n",
       "      <td>-87.6298</td>\n",
       "      <td>Chicago</td>\n",
       "    </tr>\n",
       "    <tr>\n",
       "      <th>3</th>\n",
       "      <td>51.5074</td>\n",
       "      <td>-0.1278</td>\n",
       "      <td>London</td>\n",
       "    </tr>\n",
       "    <tr>\n",
       "      <th>4</th>\n",
       "      <td>37.7749</td>\n",
       "      <td>-122.4194</td>\n",
       "      <td>San Francisco</td>\n",
       "    </tr>\n",
       "  </tbody>\n",
       "</table>\n",
       "</div>"
      ],
      "text/plain": [
       "   latitude  longitude           name\n",
       "0   40.7128   -74.0060       New York\n",
       "1   34.0522  -118.2437    Los Angeles\n",
       "2   41.8781   -87.6298        Chicago\n",
       "3   51.5074    -0.1278         London\n",
       "4   37.7749  -122.4194  San Francisco"
      ]
     },
     "execution_count": 2,
     "metadata": {},
     "output_type": "execute_result"
    }
   ],
   "source": [
    "# создаем тестовый датафрейм:\n",
    "\n",
    "import pandas as pd\n",
    "\n",
    "data = {\n",
    "    'latitude': [40.7128, 34.0522, 41.8781, 51.5074, 37.7749, 33.6844, 39.9042, 48.8566, 35.682839, 55.7558],\n",
    "    'longitude': [-74.0060, -118.2437, -87.6298, -0.1278, -122.4194, -117.8265, 32.9297, 2.3522, 139.759455, 37.6176],\n",
    "    'name': ['New York', 'Los Angeles', 'Chicago', 'London', 'San Francisco', 'San Diego', 'Beijing', 'Paris', 'Tokyo', 'Moscow']\n",
    "}\n",
    "\n",
    "df = pd.DataFrame(data)\n",
    "\n",
    "df.head()"
   ]
  },
  {
   "cell_type": "markdown",
   "id": "85e9107e-2998-4215-8ad1-202e413b0bdb",
   "metadata": {
    "jp-MarkdownHeadingCollapsed": true,
    "tags": []
   },
   "source": [
    "# 2. Создание карты с обычными метками:"
   ]
  },
  {
   "cell_type": "code",
   "execution_count": 13,
   "id": "be8a239b-4ed7-4aa0-966d-ef37315d1620",
   "metadata": {
    "tags": []
   },
   "outputs": [
    {
     "data": {
      "text/html": [
       "<div style=\"width:100%;\"><div style=\"position:relative;width:100%;height:0;padding-bottom:60%;\"><span style=\"color:#565656\">Make this Notebook Trusted to load map: File -> Trust Notebook</span><iframe srcdoc=\"&lt;!DOCTYPE html&gt;\n",
       "&lt;html&gt;\n",
       "&lt;head&gt;\n",
       "    \n",
       "    &lt;meta http-equiv=&quot;content-type&quot; content=&quot;text/html; charset=UTF-8&quot; /&gt;\n",
       "    \n",
       "        &lt;script&gt;\n",
       "            L_NO_TOUCH = false;\n",
       "            L_DISABLE_3D = false;\n",
       "        &lt;/script&gt;\n",
       "    \n",
       "    &lt;style&gt;html, body {width: 100%;height: 100%;margin: 0;padding: 0;}&lt;/style&gt;\n",
       "    &lt;style&gt;#map {position:absolute;top:0;bottom:0;right:0;left:0;}&lt;/style&gt;\n",
       "    &lt;script src=&quot;https://cdn.jsdelivr.net/npm/leaflet@1.6.0/dist/leaflet.js&quot;&gt;&lt;/script&gt;\n",
       "    &lt;script src=&quot;https://code.jquery.com/jquery-1.12.4.min.js&quot;&gt;&lt;/script&gt;\n",
       "    &lt;script src=&quot;https://maxcdn.bootstrapcdn.com/bootstrap/3.2.0/js/bootstrap.min.js&quot;&gt;&lt;/script&gt;\n",
       "    &lt;script src=&quot;https://cdnjs.cloudflare.com/ajax/libs/Leaflet.awesome-markers/2.0.2/leaflet.awesome-markers.js&quot;&gt;&lt;/script&gt;\n",
       "    &lt;link rel=&quot;stylesheet&quot; href=&quot;https://cdn.jsdelivr.net/npm/leaflet@1.6.0/dist/leaflet.css&quot;/&gt;\n",
       "    &lt;link rel=&quot;stylesheet&quot; href=&quot;https://maxcdn.bootstrapcdn.com/bootstrap/3.2.0/css/bootstrap.min.css&quot;/&gt;\n",
       "    &lt;link rel=&quot;stylesheet&quot; href=&quot;https://maxcdn.bootstrapcdn.com/bootstrap/3.2.0/css/bootstrap-theme.min.css&quot;/&gt;\n",
       "    &lt;link rel=&quot;stylesheet&quot; href=&quot;https://maxcdn.bootstrapcdn.com/font-awesome/4.6.3/css/font-awesome.min.css&quot;/&gt;\n",
       "    &lt;link rel=&quot;stylesheet&quot; href=&quot;https://cdnjs.cloudflare.com/ajax/libs/Leaflet.awesome-markers/2.0.2/leaflet.awesome-markers.css&quot;/&gt;\n",
       "    &lt;link rel=&quot;stylesheet&quot; href=&quot;https://cdn.jsdelivr.net/gh/python-visualization/folium/folium/templates/leaflet.awesome.rotate.min.css&quot;/&gt;\n",
       "    \n",
       "            &lt;meta name=&quot;viewport&quot; content=&quot;width=device-width,\n",
       "                initial-scale=1.0, maximum-scale=1.0, user-scalable=no&quot; /&gt;\n",
       "            &lt;style&gt;\n",
       "                #map_3df411edb6e94b7db9a75ea347ac2c26 {\n",
       "                    position: relative;\n",
       "                    width: 100.0%;\n",
       "                    height: 100.0%;\n",
       "                    left: 0.0%;\n",
       "                    top: 0.0%;\n",
       "                }\n",
       "            &lt;/style&gt;\n",
       "        \n",
       "&lt;/head&gt;\n",
       "&lt;body&gt;\n",
       "    \n",
       "    \n",
       "            &lt;div class=&quot;folium-map&quot; id=&quot;map_3df411edb6e94b7db9a75ea347ac2c26&quot; &gt;&lt;/div&gt;\n",
       "        \n",
       "&lt;/body&gt;\n",
       "&lt;script&gt;\n",
       "    \n",
       "    \n",
       "            var map_3df411edb6e94b7db9a75ea347ac2c26 = L.map(\n",
       "                &quot;map_3df411edb6e94b7db9a75ea347ac2c26&quot;,\n",
       "                {\n",
       "                    center: [41.98092390000001, -30.7594245],\n",
       "                    crs: L.CRS.EPSG3857,\n",
       "                    zoom: 2,\n",
       "                    zoomControl: true,\n",
       "                    preferCanvas: false,\n",
       "                }\n",
       "            );\n",
       "\n",
       "            \n",
       "\n",
       "        \n",
       "    \n",
       "            var tile_layer_4e6f7ca8f6899fb402a52f783e72158e = L.tileLayer(\n",
       "                &quot;https://{s}.tile.openstreetmap.org/{z}/{x}/{y}.png&quot;,\n",
       "                {&quot;attribution&quot;: &quot;Data by \\u0026copy; \\u003ca href=\\&quot;http://openstreetmap.org\\&quot;\\u003eOpenStreetMap\\u003c/a\\u003e, under \\u003ca href=\\&quot;http://www.openstreetmap.org/copyright\\&quot;\\u003eODbL\\u003c/a\\u003e.&quot;, &quot;detectRetina&quot;: false, &quot;maxNativeZoom&quot;: 18, &quot;maxZoom&quot;: 18, &quot;minZoom&quot;: 0, &quot;noWrap&quot;: false, &quot;opacity&quot;: 1, &quot;subdomains&quot;: &quot;abc&quot;, &quot;tms&quot;: false}\n",
       "            ).addTo(map_3df411edb6e94b7db9a75ea347ac2c26);\n",
       "        \n",
       "    \n",
       "            var circle_marker_f636140ec55244d8cc2f9900f2f379c4 = L.circleMarker(\n",
       "                [40.7128, -74.006],\n",
       "                {&quot;bubblingMouseEvents&quot;: true, &quot;color&quot;: &quot;red&quot;, &quot;dashArray&quot;: null, &quot;dashOffset&quot;: null, &quot;fill&quot;: true, &quot;fillColor&quot;: &quot;red&quot;, &quot;fillOpacity&quot;: 0.9, &quot;fillRule&quot;: &quot;evenodd&quot;, &quot;lineCap&quot;: &quot;round&quot;, &quot;lineJoin&quot;: &quot;round&quot;, &quot;opacity&quot;: 1.0, &quot;radius&quot;: 5, &quot;stroke&quot;: true, &quot;weight&quot;: 3}\n",
       "            ).addTo(map_3df411edb6e94b7db9a75ea347ac2c26);\n",
       "        \n",
       "    \n",
       "        var popup_1125c283910719cb89d87d478b4d7ce0 = L.popup({&quot;maxWidth&quot;: &quot;100%&quot;});\n",
       "\n",
       "        \n",
       "            \n",
       "                var html_6013633de9fcc38257f8e022227df8aa = $(`&lt;div id=&quot;html_6013633de9fcc38257f8e022227df8aa&quot; style=&quot;width: 100.0%; height: 100.0%;&quot;&gt;New York&lt;/div&gt;`)[0];\n",
       "                popup_1125c283910719cb89d87d478b4d7ce0.setContent(html_6013633de9fcc38257f8e022227df8aa);\n",
       "            \n",
       "        \n",
       "\n",
       "        circle_marker_f636140ec55244d8cc2f9900f2f379c4.bindPopup(popup_1125c283910719cb89d87d478b4d7ce0)\n",
       "        ;\n",
       "\n",
       "        \n",
       "    \n",
       "    \n",
       "            var circle_marker_8f9114091b9463d2259c0c7fa6e70b55 = L.circleMarker(\n",
       "                [34.0522, -118.2437],\n",
       "                {&quot;bubblingMouseEvents&quot;: true, &quot;color&quot;: &quot;red&quot;, &quot;dashArray&quot;: null, &quot;dashOffset&quot;: null, &quot;fill&quot;: true, &quot;fillColor&quot;: &quot;red&quot;, &quot;fillOpacity&quot;: 0.9, &quot;fillRule&quot;: &quot;evenodd&quot;, &quot;lineCap&quot;: &quot;round&quot;, &quot;lineJoin&quot;: &quot;round&quot;, &quot;opacity&quot;: 1.0, &quot;radius&quot;: 5, &quot;stroke&quot;: true, &quot;weight&quot;: 3}\n",
       "            ).addTo(map_3df411edb6e94b7db9a75ea347ac2c26);\n",
       "        \n",
       "    \n",
       "        var popup_e833423398a78d42d6c7e64aadc0ff4d = L.popup({&quot;maxWidth&quot;: &quot;100%&quot;});\n",
       "\n",
       "        \n",
       "            \n",
       "                var html_a5067e0847b242269250a6850187a8cd = $(`&lt;div id=&quot;html_a5067e0847b242269250a6850187a8cd&quot; style=&quot;width: 100.0%; height: 100.0%;&quot;&gt;Los Angeles&lt;/div&gt;`)[0];\n",
       "                popup_e833423398a78d42d6c7e64aadc0ff4d.setContent(html_a5067e0847b242269250a6850187a8cd);\n",
       "            \n",
       "        \n",
       "\n",
       "        circle_marker_8f9114091b9463d2259c0c7fa6e70b55.bindPopup(popup_e833423398a78d42d6c7e64aadc0ff4d)\n",
       "        ;\n",
       "\n",
       "        \n",
       "    \n",
       "    \n",
       "            var circle_marker_d1c10ff989996087b4a6efd62721fec9 = L.circleMarker(\n",
       "                [41.8781, -87.6298],\n",
       "                {&quot;bubblingMouseEvents&quot;: true, &quot;color&quot;: &quot;red&quot;, &quot;dashArray&quot;: null, &quot;dashOffset&quot;: null, &quot;fill&quot;: true, &quot;fillColor&quot;: &quot;red&quot;, &quot;fillOpacity&quot;: 0.9, &quot;fillRule&quot;: &quot;evenodd&quot;, &quot;lineCap&quot;: &quot;round&quot;, &quot;lineJoin&quot;: &quot;round&quot;, &quot;opacity&quot;: 1.0, &quot;radius&quot;: 5, &quot;stroke&quot;: true, &quot;weight&quot;: 3}\n",
       "            ).addTo(map_3df411edb6e94b7db9a75ea347ac2c26);\n",
       "        \n",
       "    \n",
       "        var popup_e83312f0b7579a2c554ae1bbc7151def = L.popup({&quot;maxWidth&quot;: &quot;100%&quot;});\n",
       "\n",
       "        \n",
       "            \n",
       "                var html_d3530f197bf776c4c806ab3214abc0f9 = $(`&lt;div id=&quot;html_d3530f197bf776c4c806ab3214abc0f9&quot; style=&quot;width: 100.0%; height: 100.0%;&quot;&gt;Chicago&lt;/div&gt;`)[0];\n",
       "                popup_e83312f0b7579a2c554ae1bbc7151def.setContent(html_d3530f197bf776c4c806ab3214abc0f9);\n",
       "            \n",
       "        \n",
       "\n",
       "        circle_marker_d1c10ff989996087b4a6efd62721fec9.bindPopup(popup_e83312f0b7579a2c554ae1bbc7151def)\n",
       "        ;\n",
       "\n",
       "        \n",
       "    \n",
       "    \n",
       "            var circle_marker_84fb61e2cec354fbf535726b4ebb7c0d = L.circleMarker(\n",
       "                [51.5074, -0.1278],\n",
       "                {&quot;bubblingMouseEvents&quot;: true, &quot;color&quot;: &quot;red&quot;, &quot;dashArray&quot;: null, &quot;dashOffset&quot;: null, &quot;fill&quot;: true, &quot;fillColor&quot;: &quot;red&quot;, &quot;fillOpacity&quot;: 0.9, &quot;fillRule&quot;: &quot;evenodd&quot;, &quot;lineCap&quot;: &quot;round&quot;, &quot;lineJoin&quot;: &quot;round&quot;, &quot;opacity&quot;: 1.0, &quot;radius&quot;: 5, &quot;stroke&quot;: true, &quot;weight&quot;: 3}\n",
       "            ).addTo(map_3df411edb6e94b7db9a75ea347ac2c26);\n",
       "        \n",
       "    \n",
       "        var popup_292c148012435b303b7d1c4a60be96ae = L.popup({&quot;maxWidth&quot;: &quot;100%&quot;});\n",
       "\n",
       "        \n",
       "            \n",
       "                var html_d5421d311b3e825bbaf4cb138120239b = $(`&lt;div id=&quot;html_d5421d311b3e825bbaf4cb138120239b&quot; style=&quot;width: 100.0%; height: 100.0%;&quot;&gt;London&lt;/div&gt;`)[0];\n",
       "                popup_292c148012435b303b7d1c4a60be96ae.setContent(html_d5421d311b3e825bbaf4cb138120239b);\n",
       "            \n",
       "        \n",
       "\n",
       "        circle_marker_84fb61e2cec354fbf535726b4ebb7c0d.bindPopup(popup_292c148012435b303b7d1c4a60be96ae)\n",
       "        ;\n",
       "\n",
       "        \n",
       "    \n",
       "    \n",
       "            var circle_marker_ad095abd2aabe01f9518122a9bfd8451 = L.circleMarker(\n",
       "                [37.7749, -122.4194],\n",
       "                {&quot;bubblingMouseEvents&quot;: true, &quot;color&quot;: &quot;red&quot;, &quot;dashArray&quot;: null, &quot;dashOffset&quot;: null, &quot;fill&quot;: true, &quot;fillColor&quot;: &quot;red&quot;, &quot;fillOpacity&quot;: 0.9, &quot;fillRule&quot;: &quot;evenodd&quot;, &quot;lineCap&quot;: &quot;round&quot;, &quot;lineJoin&quot;: &quot;round&quot;, &quot;opacity&quot;: 1.0, &quot;radius&quot;: 5, &quot;stroke&quot;: true, &quot;weight&quot;: 3}\n",
       "            ).addTo(map_3df411edb6e94b7db9a75ea347ac2c26);\n",
       "        \n",
       "    \n",
       "        var popup_863f78beab33a0801c20712e1bd88b8e = L.popup({&quot;maxWidth&quot;: &quot;100%&quot;});\n",
       "\n",
       "        \n",
       "            \n",
       "                var html_cd1d0b64648c32fd6207b17cc65205d3 = $(`&lt;div id=&quot;html_cd1d0b64648c32fd6207b17cc65205d3&quot; style=&quot;width: 100.0%; height: 100.0%;&quot;&gt;San Francisco&lt;/div&gt;`)[0];\n",
       "                popup_863f78beab33a0801c20712e1bd88b8e.setContent(html_cd1d0b64648c32fd6207b17cc65205d3);\n",
       "            \n",
       "        \n",
       "\n",
       "        circle_marker_ad095abd2aabe01f9518122a9bfd8451.bindPopup(popup_863f78beab33a0801c20712e1bd88b8e)\n",
       "        ;\n",
       "\n",
       "        \n",
       "    \n",
       "    \n",
       "            var circle_marker_8d76fb0d000a824b1c1e89658ee95c47 = L.circleMarker(\n",
       "                [33.6844, -117.8265],\n",
       "                {&quot;bubblingMouseEvents&quot;: true, &quot;color&quot;: &quot;red&quot;, &quot;dashArray&quot;: null, &quot;dashOffset&quot;: null, &quot;fill&quot;: true, &quot;fillColor&quot;: &quot;red&quot;, &quot;fillOpacity&quot;: 0.9, &quot;fillRule&quot;: &quot;evenodd&quot;, &quot;lineCap&quot;: &quot;round&quot;, &quot;lineJoin&quot;: &quot;round&quot;, &quot;opacity&quot;: 1.0, &quot;radius&quot;: 5, &quot;stroke&quot;: true, &quot;weight&quot;: 3}\n",
       "            ).addTo(map_3df411edb6e94b7db9a75ea347ac2c26);\n",
       "        \n",
       "    \n",
       "        var popup_5198761c302f855062a84cdb5422ed9e = L.popup({&quot;maxWidth&quot;: &quot;100%&quot;});\n",
       "\n",
       "        \n",
       "            \n",
       "                var html_99af909fc17f0b7785fc8e84fc92601e = $(`&lt;div id=&quot;html_99af909fc17f0b7785fc8e84fc92601e&quot; style=&quot;width: 100.0%; height: 100.0%;&quot;&gt;San Diego&lt;/div&gt;`)[0];\n",
       "                popup_5198761c302f855062a84cdb5422ed9e.setContent(html_99af909fc17f0b7785fc8e84fc92601e);\n",
       "            \n",
       "        \n",
       "\n",
       "        circle_marker_8d76fb0d000a824b1c1e89658ee95c47.bindPopup(popup_5198761c302f855062a84cdb5422ed9e)\n",
       "        ;\n",
       "\n",
       "        \n",
       "    \n",
       "    \n",
       "            var circle_marker_add4c6f6f2a81f55bd692bf750bfc39e = L.circleMarker(\n",
       "                [39.9042, 32.9297],\n",
       "                {&quot;bubblingMouseEvents&quot;: true, &quot;color&quot;: &quot;red&quot;, &quot;dashArray&quot;: null, &quot;dashOffset&quot;: null, &quot;fill&quot;: true, &quot;fillColor&quot;: &quot;red&quot;, &quot;fillOpacity&quot;: 0.9, &quot;fillRule&quot;: &quot;evenodd&quot;, &quot;lineCap&quot;: &quot;round&quot;, &quot;lineJoin&quot;: &quot;round&quot;, &quot;opacity&quot;: 1.0, &quot;radius&quot;: 5, &quot;stroke&quot;: true, &quot;weight&quot;: 3}\n",
       "            ).addTo(map_3df411edb6e94b7db9a75ea347ac2c26);\n",
       "        \n",
       "    \n",
       "        var popup_9325158a97acb92b687a7d8319b977a1 = L.popup({&quot;maxWidth&quot;: &quot;100%&quot;});\n",
       "\n",
       "        \n",
       "            \n",
       "                var html_43d2b49ab2c154351aef73a7793dca82 = $(`&lt;div id=&quot;html_43d2b49ab2c154351aef73a7793dca82&quot; style=&quot;width: 100.0%; height: 100.0%;&quot;&gt;Beijing&lt;/div&gt;`)[0];\n",
       "                popup_9325158a97acb92b687a7d8319b977a1.setContent(html_43d2b49ab2c154351aef73a7793dca82);\n",
       "            \n",
       "        \n",
       "\n",
       "        circle_marker_add4c6f6f2a81f55bd692bf750bfc39e.bindPopup(popup_9325158a97acb92b687a7d8319b977a1)\n",
       "        ;\n",
       "\n",
       "        \n",
       "    \n",
       "    \n",
       "            var circle_marker_f1f63ec538dc722b748553fab7129583 = L.circleMarker(\n",
       "                [48.8566, 2.3522],\n",
       "                {&quot;bubblingMouseEvents&quot;: true, &quot;color&quot;: &quot;red&quot;, &quot;dashArray&quot;: null, &quot;dashOffset&quot;: null, &quot;fill&quot;: true, &quot;fillColor&quot;: &quot;red&quot;, &quot;fillOpacity&quot;: 0.9, &quot;fillRule&quot;: &quot;evenodd&quot;, &quot;lineCap&quot;: &quot;round&quot;, &quot;lineJoin&quot;: &quot;round&quot;, &quot;opacity&quot;: 1.0, &quot;radius&quot;: 5, &quot;stroke&quot;: true, &quot;weight&quot;: 3}\n",
       "            ).addTo(map_3df411edb6e94b7db9a75ea347ac2c26);\n",
       "        \n",
       "    \n",
       "        var popup_e9e30f2dbd7cf5c720686f1dbfa6a6a0 = L.popup({&quot;maxWidth&quot;: &quot;100%&quot;});\n",
       "\n",
       "        \n",
       "            \n",
       "                var html_15a548eaf47d0d13efb79d1b5f2e90f6 = $(`&lt;div id=&quot;html_15a548eaf47d0d13efb79d1b5f2e90f6&quot; style=&quot;width: 100.0%; height: 100.0%;&quot;&gt;Paris&lt;/div&gt;`)[0];\n",
       "                popup_e9e30f2dbd7cf5c720686f1dbfa6a6a0.setContent(html_15a548eaf47d0d13efb79d1b5f2e90f6);\n",
       "            \n",
       "        \n",
       "\n",
       "        circle_marker_f1f63ec538dc722b748553fab7129583.bindPopup(popup_e9e30f2dbd7cf5c720686f1dbfa6a6a0)\n",
       "        ;\n",
       "\n",
       "        \n",
       "    \n",
       "    \n",
       "            var circle_marker_b49c37c7375c6eebcf46ca1a86f99104 = L.circleMarker(\n",
       "                [35.682839, 139.759455],\n",
       "                {&quot;bubblingMouseEvents&quot;: true, &quot;color&quot;: &quot;red&quot;, &quot;dashArray&quot;: null, &quot;dashOffset&quot;: null, &quot;fill&quot;: true, &quot;fillColor&quot;: &quot;red&quot;, &quot;fillOpacity&quot;: 0.9, &quot;fillRule&quot;: &quot;evenodd&quot;, &quot;lineCap&quot;: &quot;round&quot;, &quot;lineJoin&quot;: &quot;round&quot;, &quot;opacity&quot;: 1.0, &quot;radius&quot;: 5, &quot;stroke&quot;: true, &quot;weight&quot;: 3}\n",
       "            ).addTo(map_3df411edb6e94b7db9a75ea347ac2c26);\n",
       "        \n",
       "    \n",
       "        var popup_539dbedfd19ce745a0a92295ee77f4fb = L.popup({&quot;maxWidth&quot;: &quot;100%&quot;});\n",
       "\n",
       "        \n",
       "            \n",
       "                var html_51516fb5df21fdb20281092cf423b10c = $(`&lt;div id=&quot;html_51516fb5df21fdb20281092cf423b10c&quot; style=&quot;width: 100.0%; height: 100.0%;&quot;&gt;Tokyo&lt;/div&gt;`)[0];\n",
       "                popup_539dbedfd19ce745a0a92295ee77f4fb.setContent(html_51516fb5df21fdb20281092cf423b10c);\n",
       "            \n",
       "        \n",
       "\n",
       "        circle_marker_b49c37c7375c6eebcf46ca1a86f99104.bindPopup(popup_539dbedfd19ce745a0a92295ee77f4fb)\n",
       "        ;\n",
       "\n",
       "        \n",
       "    \n",
       "    \n",
       "            var circle_marker_c9af41e5ab44fe28a9bf8f6564b03a6e = L.circleMarker(\n",
       "                [55.7558, 37.6176],\n",
       "                {&quot;bubblingMouseEvents&quot;: true, &quot;color&quot;: &quot;red&quot;, &quot;dashArray&quot;: null, &quot;dashOffset&quot;: null, &quot;fill&quot;: true, &quot;fillColor&quot;: &quot;red&quot;, &quot;fillOpacity&quot;: 0.9, &quot;fillRule&quot;: &quot;evenodd&quot;, &quot;lineCap&quot;: &quot;round&quot;, &quot;lineJoin&quot;: &quot;round&quot;, &quot;opacity&quot;: 1.0, &quot;radius&quot;: 5, &quot;stroke&quot;: true, &quot;weight&quot;: 3}\n",
       "            ).addTo(map_3df411edb6e94b7db9a75ea347ac2c26);\n",
       "        \n",
       "    \n",
       "        var popup_9e600f5e3def2d7875cb4c9bb145aca7 = L.popup({&quot;maxWidth&quot;: &quot;100%&quot;});\n",
       "\n",
       "        \n",
       "            \n",
       "                var html_ad8431fa6a0e46f4f90f9ceb03dcbc09 = $(`&lt;div id=&quot;html_ad8431fa6a0e46f4f90f9ceb03dcbc09&quot; style=&quot;width: 100.0%; height: 100.0%;&quot;&gt;Moscow&lt;/div&gt;`)[0];\n",
       "                popup_9e600f5e3def2d7875cb4c9bb145aca7.setContent(html_ad8431fa6a0e46f4f90f9ceb03dcbc09);\n",
       "            \n",
       "        \n",
       "\n",
       "        circle_marker_c9af41e5ab44fe28a9bf8f6564b03a6e.bindPopup(popup_9e600f5e3def2d7875cb4c9bb145aca7)\n",
       "        ;\n",
       "\n",
       "        \n",
       "    \n",
       "&lt;/script&gt;\n",
       "&lt;/html&gt;\" style=\"position:absolute;width:100%;height:100%;left:0;top:0;border:none !important;\" allowfullscreen webkitallowfullscreen mozallowfullscreen></iframe></div></div>"
      ],
      "text/plain": [
       "<folium.folium.Map at 0x13b6ba1d0>"
      ]
     },
     "execution_count": 13,
     "metadata": {},
     "output_type": "execute_result"
    }
   ],
   "source": [
    "import folium\n",
    "\n",
    "map = folium.Map(location=[df['latitude'].mean(), df['longitude'].mean()], zoom_start=2)\n",
    "\n",
    "for _, row in df.iterrows():\n",
    "    folium.CircleMarker(\n",
    "        location=[row['latitude'], row['longitude']],\n",
    "        radius=5,\n",
    "        popup=row['name'],\n",
    "        color='red',  \n",
    "        fill=True,\n",
    "        fill_color='red',\n",
    "        fill_opacity=0.9\n",
    "    ).add_to(map)\n",
    "\n",
    "map"
   ]
  },
  {
   "cell_type": "markdown",
   "id": "ff78c4ad-825c-4ad3-87ec-f461f6c4157e",
   "metadata": {
    "jp-MarkdownHeadingCollapsed": true,
    "tags": []
   },
   "source": [
    "# 3. Как нарисовать polygon вручную:"
   ]
  },
  {
   "cell_type": "markdown",
   "id": "b0d45d82-d207-462a-957e-b9e9daf0b6ae",
   "metadata": {},
   "source": [
    "Cайт: https://geojson.io\n",
    "\n",
    "Это сайт где можно интерактивно нарисовать на карте произвольный полигон и получить его код в виде geojson.\n",
    "\n",
    "Например, мы нарисовали полигон и скопировали справа его geojson:"
   ]
  },
  {
   "cell_type": "code",
   "execution_count": 14,
   "id": "136f89e0-d35a-4af2-a623-c0f5af2d288f",
   "metadata": {
    "tags": []
   },
   "outputs": [],
   "source": [
    "from shapely.geometry import Polygon"
   ]
  },
  {
   "cell_type": "code",
   "execution_count": 15,
   "id": "7572fe29-450c-47e9-91e2-fbb1663fb0c0",
   "metadata": {
    "tags": []
   },
   "outputs": [],
   "source": [
    "# функция, конвертирующая geojson в Polygon:\n",
    "\n",
    "def get_polygon_from_dict(geojson):\n",
    "    coordinates_list = geojson['features'][0]['geometry']['coordinates'][0]\n",
    "    return Polygon(coordinates_list)"
   ]
  },
  {
   "cell_type": "code",
   "execution_count": 16,
   "id": "86ebb3d1-5c6d-4aa6-8470-1ac01f937953",
   "metadata": {
    "tags": []
   },
   "outputs": [],
   "source": [
    "# geojson МКАДа (нарисовали на https://geojson.io):\n",
    "\n",
    "mkad_geojson = \\\n",
    "{\n",
    "  \"type\": \"FeatureCollection\",\n",
    "  \"features\": [\n",
    "    {\n",
    "      \"type\": \"Feature\",\n",
    "      \"properties\": {},\n",
    "      \"geometry\": {\n",
    "        \"coordinates\": [\n",
    "          [\n",
    "            [\n",
    "              37.36773395055624,\n",
    "              55.72929672787845\n",
    "            ],\n",
    "            [\n",
    "              37.50678467194513,\n",
    "              55.60452974307799\n",
    "            ],\n",
    "            [\n",
    "              37.67742371234735,\n",
    "              55.5795303356455\n",
    "            ],\n",
    "            [\n",
    "              37.83547407889503,\n",
    "              55.658050034561654\n",
    "            ],\n",
    "            [\n",
    "              37.84493539573907,\n",
    "              55.80751728021505\n",
    "            ],\n",
    "            [\n",
    "              37.72167845864138,\n",
    "              55.88734742173864\n",
    "            ],\n",
    "            [\n",
    "              37.56682932930957,\n",
    "              55.91037857344125\n",
    "            ],\n",
    "            [\n",
    "              37.39618717366926,\n",
    "              55.864282386046455\n",
    "            ],\n",
    "            [\n",
    "              37.36773395055624,\n",
    "              55.72929672787845\n",
    "            ]\n",
    "          ]\n",
    "        ],\n",
    "        \"type\": \"Polygon\"\n",
    "      }\n",
    "    }\n",
    "  ]\n",
    "}"
   ]
  },
  {
   "cell_type": "code",
   "execution_count": 17,
   "id": "6ad73bea-2cbf-49ca-a466-6b43ca126940",
   "metadata": {
    "tags": []
   },
   "outputs": [],
   "source": [
    "# получаем полигон:\n",
    "mkad_polygon = get_polygon_from_dict(mkad_geojson)"
   ]
  },
  {
   "cell_type": "code",
   "execution_count": 18,
   "id": "542a80fc-b665-4ce3-81b7-8ffe344568a5",
   "metadata": {
    "tags": []
   },
   "outputs": [
    {
     "data": {
      "text/plain": [
       "shapely.geometry.polygon.Polygon"
      ]
     },
     "execution_count": 18,
     "metadata": {},
     "output_type": "execute_result"
    }
   ],
   "source": [
    "type(mkad_polygon)"
   ]
  },
  {
   "cell_type": "markdown",
   "id": "9a651db6-62f7-4f4d-930c-fdee772345a6",
   "metadata": {
    "jp-MarkdownHeadingCollapsed": true,
    "tags": []
   },
   "source": [
    "# 4. Создание карты с полигонами:"
   ]
  },
  {
   "cell_type": "code",
   "execution_count": 19,
   "id": "b2926060-25d9-4090-b68d-07bfb7be492a",
   "metadata": {
    "tags": []
   },
   "outputs": [],
   "source": [
    "import folium"
   ]
  },
  {
   "cell_type": "code",
   "execution_count": 20,
   "id": "de394ccf-9414-40af-84f8-524fa37c62c1",
   "metadata": {
    "tags": []
   },
   "outputs": [
    {
     "data": {
      "text/html": [
       "<div style=\"width:100%;\"><div style=\"position:relative;width:100%;height:0;padding-bottom:60%;\"><span style=\"color:#565656\">Make this Notebook Trusted to load map: File -> Trust Notebook</span><iframe srcdoc=\"&lt;!DOCTYPE html&gt;\n",
       "&lt;html&gt;\n",
       "&lt;head&gt;\n",
       "    \n",
       "    &lt;meta http-equiv=&quot;content-type&quot; content=&quot;text/html; charset=UTF-8&quot; /&gt;\n",
       "    \n",
       "        &lt;script&gt;\n",
       "            L_NO_TOUCH = false;\n",
       "            L_DISABLE_3D = false;\n",
       "        &lt;/script&gt;\n",
       "    \n",
       "    &lt;style&gt;html, body {width: 100%;height: 100%;margin: 0;padding: 0;}&lt;/style&gt;\n",
       "    &lt;style&gt;#map {position:absolute;top:0;bottom:0;right:0;left:0;}&lt;/style&gt;\n",
       "    &lt;script src=&quot;https://cdn.jsdelivr.net/npm/leaflet@1.6.0/dist/leaflet.js&quot;&gt;&lt;/script&gt;\n",
       "    &lt;script src=&quot;https://code.jquery.com/jquery-1.12.4.min.js&quot;&gt;&lt;/script&gt;\n",
       "    &lt;script src=&quot;https://maxcdn.bootstrapcdn.com/bootstrap/3.2.0/js/bootstrap.min.js&quot;&gt;&lt;/script&gt;\n",
       "    &lt;script src=&quot;https://cdnjs.cloudflare.com/ajax/libs/Leaflet.awesome-markers/2.0.2/leaflet.awesome-markers.js&quot;&gt;&lt;/script&gt;\n",
       "    &lt;link rel=&quot;stylesheet&quot; href=&quot;https://cdn.jsdelivr.net/npm/leaflet@1.6.0/dist/leaflet.css&quot;/&gt;\n",
       "    &lt;link rel=&quot;stylesheet&quot; href=&quot;https://maxcdn.bootstrapcdn.com/bootstrap/3.2.0/css/bootstrap.min.css&quot;/&gt;\n",
       "    &lt;link rel=&quot;stylesheet&quot; href=&quot;https://maxcdn.bootstrapcdn.com/bootstrap/3.2.0/css/bootstrap-theme.min.css&quot;/&gt;\n",
       "    &lt;link rel=&quot;stylesheet&quot; href=&quot;https://maxcdn.bootstrapcdn.com/font-awesome/4.6.3/css/font-awesome.min.css&quot;/&gt;\n",
       "    &lt;link rel=&quot;stylesheet&quot; href=&quot;https://cdnjs.cloudflare.com/ajax/libs/Leaflet.awesome-markers/2.0.2/leaflet.awesome-markers.css&quot;/&gt;\n",
       "    &lt;link rel=&quot;stylesheet&quot; href=&quot;https://cdn.jsdelivr.net/gh/python-visualization/folium/folium/templates/leaflet.awesome.rotate.min.css&quot;/&gt;\n",
       "    \n",
       "            &lt;meta name=&quot;viewport&quot; content=&quot;width=device-width,\n",
       "                initial-scale=1.0, maximum-scale=1.0, user-scalable=no&quot; /&gt;\n",
       "            &lt;style&gt;\n",
       "                #map_05f7da505facef717daa6ff5cffaa288 {\n",
       "                    position: relative;\n",
       "                    width: 100.0%;\n",
       "                    height: 100.0%;\n",
       "                    left: 0.0%;\n",
       "                    top: 0.0%;\n",
       "                }\n",
       "            &lt;/style&gt;\n",
       "        \n",
       "&lt;/head&gt;\n",
       "&lt;body&gt;\n",
       "    \n",
       "    \n",
       "            &lt;div class=&quot;folium-map&quot; id=&quot;map_05f7da505facef717daa6ff5cffaa288&quot; &gt;&lt;/div&gt;\n",
       "        \n",
       "&lt;/body&gt;\n",
       "&lt;script&gt;\n",
       "    \n",
       "    \n",
       "            var map_05f7da505facef717daa6ff5cffaa288 = L.map(\n",
       "                &quot;map_05f7da505facef717daa6ff5cffaa288&quot;,\n",
       "                {\n",
       "                    center: [55.7558, 37.6176],\n",
       "                    crs: L.CRS.EPSG3857,\n",
       "                    zoom: 9,\n",
       "                    zoomControl: true,\n",
       "                    preferCanvas: false,\n",
       "                }\n",
       "            );\n",
       "\n",
       "            \n",
       "\n",
       "        \n",
       "    \n",
       "            var tile_layer_7654bc421e587878fae9457bae8fdc60 = L.tileLayer(\n",
       "                &quot;https://{s}.tile.openstreetmap.org/{z}/{x}/{y}.png&quot;,\n",
       "                {&quot;attribution&quot;: &quot;Data by \\u0026copy; \\u003ca href=\\&quot;http://openstreetmap.org\\&quot;\\u003eOpenStreetMap\\u003c/a\\u003e, under \\u003ca href=\\&quot;http://www.openstreetmap.org/copyright\\&quot;\\u003eODbL\\u003c/a\\u003e.&quot;, &quot;detectRetina&quot;: false, &quot;maxNativeZoom&quot;: 18, &quot;maxZoom&quot;: 18, &quot;minZoom&quot;: 0, &quot;noWrap&quot;: false, &quot;opacity&quot;: 1, &quot;subdomains&quot;: &quot;abc&quot;, &quot;tms&quot;: false}\n",
       "            ).addTo(map_05f7da505facef717daa6ff5cffaa288);\n",
       "        \n",
       "    \n",
       "\n",
       "        function geo_json_66e7210a8647e32f452da04da9ad9cea_onEachFeature(feature, layer) {\n",
       "            layer.on({\n",
       "            });\n",
       "        };\n",
       "        var geo_json_66e7210a8647e32f452da04da9ad9cea = L.geoJson(null, {\n",
       "                onEachFeature: geo_json_66e7210a8647e32f452da04da9ad9cea_onEachFeature,\n",
       "            \n",
       "        });\n",
       "\n",
       "        function geo_json_66e7210a8647e32f452da04da9ad9cea_add (data) {\n",
       "            geo_json_66e7210a8647e32f452da04da9ad9cea\n",
       "                .addData(data)\n",
       "                .addTo(map_05f7da505facef717daa6ff5cffaa288);\n",
       "        }\n",
       "            geo_json_66e7210a8647e32f452da04da9ad9cea_add({&quot;coordinates&quot;: [[[37.36773395055624, 55.72929672787845], [37.50678467194513, 55.60452974307799], [37.67742371234735, 55.5795303356455], [37.83547407889503, 55.658050034561654], [37.84493539573907, 55.80751728021505], [37.72167845864138, 55.88734742173864], [37.56682932930957, 55.91037857344125], [37.39618717366926, 55.864282386046455], [37.36773395055624, 55.72929672787845]]], &quot;type&quot;: &quot;Polygon&quot;});\n",
       "\n",
       "        \n",
       "&lt;/script&gt;\n",
       "&lt;/html&gt;\" style=\"position:absolute;width:100%;height:100%;left:0;top:0;border:none !important;\" allowfullscreen webkitallowfullscreen mozallowfullscreen></iframe></div></div>"
      ],
      "text/plain": [
       "<folium.folium.Map at 0x13b725610>"
      ]
     },
     "execution_count": 20,
     "metadata": {},
     "output_type": "execute_result"
    }
   ],
   "source": [
    "# простая карта:\n",
    "\n",
    "m = folium.Map(location=[55.7558, 37.6176], zoom_start=9)\n",
    "\n",
    "folium.GeoJson(mkad_polygon).add_to(m)\n",
    "\n",
    "m"
   ]
  },
  {
   "cell_type": "code",
   "execution_count": 21,
   "id": "d4f2bde0-d94b-446e-87bd-cc0079529db4",
   "metadata": {
    "tags": []
   },
   "outputs": [
    {
     "data": {
      "text/html": [
       "<div style=\"width:100%;\"><div style=\"position:relative;width:100%;height:0;padding-bottom:60%;\"><span style=\"color:#565656\">Make this Notebook Trusted to load map: File -> Trust Notebook</span><iframe srcdoc=\"&lt;!DOCTYPE html&gt;\n",
       "&lt;html&gt;\n",
       "&lt;head&gt;\n",
       "    \n",
       "    &lt;meta http-equiv=&quot;content-type&quot; content=&quot;text/html; charset=UTF-8&quot; /&gt;\n",
       "    \n",
       "        &lt;script&gt;\n",
       "            L_NO_TOUCH = false;\n",
       "            L_DISABLE_3D = false;\n",
       "        &lt;/script&gt;\n",
       "    \n",
       "    &lt;style&gt;html, body {width: 100%;height: 100%;margin: 0;padding: 0;}&lt;/style&gt;\n",
       "    &lt;style&gt;#map {position:absolute;top:0;bottom:0;right:0;left:0;}&lt;/style&gt;\n",
       "    &lt;script src=&quot;https://cdn.jsdelivr.net/npm/leaflet@1.6.0/dist/leaflet.js&quot;&gt;&lt;/script&gt;\n",
       "    &lt;script src=&quot;https://code.jquery.com/jquery-1.12.4.min.js&quot;&gt;&lt;/script&gt;\n",
       "    &lt;script src=&quot;https://maxcdn.bootstrapcdn.com/bootstrap/3.2.0/js/bootstrap.min.js&quot;&gt;&lt;/script&gt;\n",
       "    &lt;script src=&quot;https://cdnjs.cloudflare.com/ajax/libs/Leaflet.awesome-markers/2.0.2/leaflet.awesome-markers.js&quot;&gt;&lt;/script&gt;\n",
       "    &lt;link rel=&quot;stylesheet&quot; href=&quot;https://cdn.jsdelivr.net/npm/leaflet@1.6.0/dist/leaflet.css&quot;/&gt;\n",
       "    &lt;link rel=&quot;stylesheet&quot; href=&quot;https://maxcdn.bootstrapcdn.com/bootstrap/3.2.0/css/bootstrap.min.css&quot;/&gt;\n",
       "    &lt;link rel=&quot;stylesheet&quot; href=&quot;https://maxcdn.bootstrapcdn.com/bootstrap/3.2.0/css/bootstrap-theme.min.css&quot;/&gt;\n",
       "    &lt;link rel=&quot;stylesheet&quot; href=&quot;https://maxcdn.bootstrapcdn.com/font-awesome/4.6.3/css/font-awesome.min.css&quot;/&gt;\n",
       "    &lt;link rel=&quot;stylesheet&quot; href=&quot;https://cdnjs.cloudflare.com/ajax/libs/Leaflet.awesome-markers/2.0.2/leaflet.awesome-markers.css&quot;/&gt;\n",
       "    &lt;link rel=&quot;stylesheet&quot; href=&quot;https://cdn.jsdelivr.net/gh/python-visualization/folium/folium/templates/leaflet.awesome.rotate.min.css&quot;/&gt;\n",
       "    \n",
       "            &lt;meta name=&quot;viewport&quot; content=&quot;width=device-width,\n",
       "                initial-scale=1.0, maximum-scale=1.0, user-scalable=no&quot; /&gt;\n",
       "            &lt;style&gt;\n",
       "                #map_09dfed62e71d160090d0694dad5f29c7 {\n",
       "                    position: relative;\n",
       "                    width: 100.0%;\n",
       "                    height: 100.0%;\n",
       "                    left: 0.0%;\n",
       "                    top: 0.0%;\n",
       "                }\n",
       "            &lt;/style&gt;\n",
       "        \n",
       "&lt;/head&gt;\n",
       "&lt;body&gt;\n",
       "    \n",
       "    \n",
       "            &lt;div class=&quot;folium-map&quot; id=&quot;map_09dfed62e71d160090d0694dad5f29c7&quot; &gt;&lt;/div&gt;\n",
       "        \n",
       "&lt;/body&gt;\n",
       "&lt;script&gt;\n",
       "    \n",
       "    \n",
       "            var map_09dfed62e71d160090d0694dad5f29c7 = L.map(\n",
       "                &quot;map_09dfed62e71d160090d0694dad5f29c7&quot;,\n",
       "                {\n",
       "                    center: [55.7558, 37.6176],\n",
       "                    crs: L.CRS.EPSG3857,\n",
       "                    zoom: 9,\n",
       "                    zoomControl: true,\n",
       "                    preferCanvas: false,\n",
       "                }\n",
       "            );\n",
       "\n",
       "            \n",
       "\n",
       "        \n",
       "    \n",
       "            var tile_layer_54d5b775cf192e13fcb3ed5b677a0c14 = L.tileLayer(\n",
       "                &quot;https://{s}.tile.openstreetmap.org/{z}/{x}/{y}.png&quot;,\n",
       "                {&quot;attribution&quot;: &quot;Data by \\u0026copy; \\u003ca href=\\&quot;http://openstreetmap.org\\&quot;\\u003eOpenStreetMap\\u003c/a\\u003e, under \\u003ca href=\\&quot;http://www.openstreetmap.org/copyright\\&quot;\\u003eODbL\\u003c/a\\u003e.&quot;, &quot;detectRetina&quot;: false, &quot;maxNativeZoom&quot;: 18, &quot;maxZoom&quot;: 18, &quot;minZoom&quot;: 0, &quot;noWrap&quot;: false, &quot;opacity&quot;: 1, &quot;subdomains&quot;: &quot;abc&quot;, &quot;tms&quot;: false}\n",
       "            ).addTo(map_09dfed62e71d160090d0694dad5f29c7);\n",
       "        \n",
       "    \n",
       "        function geo_json_d59ab39eacaf75d12b602ce9145dcb29_styler(feature) {\n",
       "            switch(feature.id) {\n",
       "                default:\n",
       "                    return {&quot;color&quot;: &quot;red&quot;, &quot;fillOpacity&quot;: 0.5, &quot;weight&quot;: 2};\n",
       "            }\n",
       "        }\n",
       "\n",
       "        function geo_json_d59ab39eacaf75d12b602ce9145dcb29_onEachFeature(feature, layer) {\n",
       "            layer.on({\n",
       "            });\n",
       "        };\n",
       "        var geo_json_d59ab39eacaf75d12b602ce9145dcb29 = L.geoJson(null, {\n",
       "                onEachFeature: geo_json_d59ab39eacaf75d12b602ce9145dcb29_onEachFeature,\n",
       "            \n",
       "                style: geo_json_d59ab39eacaf75d12b602ce9145dcb29_styler,\n",
       "        });\n",
       "\n",
       "        function geo_json_d59ab39eacaf75d12b602ce9145dcb29_add (data) {\n",
       "            geo_json_d59ab39eacaf75d12b602ce9145dcb29\n",
       "                .addData(data)\n",
       "                .addTo(map_09dfed62e71d160090d0694dad5f29c7);\n",
       "        }\n",
       "            geo_json_d59ab39eacaf75d12b602ce9145dcb29_add({&quot;features&quot;: [{&quot;geometry&quot;: {&quot;coordinates&quot;: [[[37.36773395055624, 55.72929672787845], [37.50678467194513, 55.60452974307799], [37.67742371234735, 55.5795303356455], [37.83547407889503, 55.658050034561654], [37.84493539573907, 55.80751728021505], [37.72167845864138, 55.88734742173864], [37.56682932930957, 55.91037857344125], [37.39618717366926, 55.864282386046455], [37.36773395055624, 55.72929672787845]]], &quot;type&quot;: &quot;Polygon&quot;}, &quot;id&quot;: &quot;0&quot;, &quot;type&quot;: &quot;Feature&quot;}], &quot;type&quot;: &quot;FeatureCollection&quot;});\n",
       "\n",
       "        \n",
       "    \n",
       "            geo_json_d59ab39eacaf75d12b602ce9145dcb29.bindTooltip(\n",
       "                `&lt;div&gt;\n",
       "                     мкад\n",
       "                 &lt;/div&gt;`,\n",
       "                {&quot;sticky&quot;: true}\n",
       "            );\n",
       "        \n",
       "&lt;/script&gt;\n",
       "&lt;/html&gt;\" style=\"position:absolute;width:100%;height:100%;left:0;top:0;border:none !important;\" allowfullscreen webkitallowfullscreen mozallowfullscreen></iframe></div></div>"
      ],
      "text/plain": [
       "<folium.folium.Map at 0x13b5b0a50>"
      ]
     },
     "execution_count": 21,
     "metadata": {},
     "output_type": "execute_result"
    }
   ],
   "source": [
    "# Добавляем цвет и аттрибуты полигону:\n",
    "\n",
    "m = folium.Map(location=[55.7558, 37.6176], zoom_start=9)\n",
    "\n",
    "folium.GeoJson(\n",
    "    mkad_polygon,\n",
    "    style_function=lambda feature: { # цвет полигона\n",
    "        'color': 'red',\n",
    "        'weight': 2,\n",
    "        'fillOpacity': 0.5},\n",
    "    \n",
    "    tooltip=folium.Tooltip('мкад') # всплывающая надпись\n",
    "    \n",
    ").add_to(m)\n",
    "\n",
    "# display the map:\n",
    "m"
   ]
  },
  {
   "cell_type": "markdown",
   "id": "2709c171-3032-4688-8c37-d4f2135d6549",
   "metadata": {
    "jp-MarkdownHeadingCollapsed": true,
    "tags": []
   },
   "source": [
    "# 5. Объединение полигонов:"
   ]
  },
  {
   "cell_type": "code",
   "execution_count": 22,
   "id": "50c092c7-d198-4ba7-8187-5635239e735c",
   "metadata": {},
   "outputs": [
    {
     "data": {
      "image/svg+xml": [
       "<svg xmlns=\"http://www.w3.org/2000/svg\" xmlns:xlink=\"http://www.w3.org/1999/xlink\" width=\"100.0\" height=\"100.0\" viewBox=\"-0.12 -0.12 3.24 3.24\" preserveAspectRatio=\"xMinYMin meet\"><g transform=\"matrix(1,0,0,-1,0,3.0)\"><g><path fill-rule=\"evenodd\" fill=\"#66cc99\" stroke=\"#555555\" stroke-width=\"0.06480000000000001\" opacity=\"0.6\" d=\"M 1.0,0.0 L 0.0,0.0 L 1.0,1.0 L 1.0,0.0 z\" /><path fill-rule=\"evenodd\" fill=\"#66cc99\" stroke=\"#555555\" stroke-width=\"0.06480000000000001\" opacity=\"0.6\" d=\"M 1.0,1.0 L 2.0,2.0 L 2.0,1.0 L 1.0,1.0 z\" /><path fill-rule=\"evenodd\" fill=\"#66cc99\" stroke=\"#555555\" stroke-width=\"0.06480000000000001\" opacity=\"0.6\" d=\"M 3.0,2.0 L 2.0,2.0 L 3.0,3.0 L 3.0,2.0 z\" /></g></g></svg>"
      ],
      "text/plain": [
       "<MULTIPOLYGON (((1 0, 0 0, 1 1, 1 0)), ((1 1, 2 2, 2 1, 1 1)), ((3 2, 2 2, 3...>"
      ]
     },
     "execution_count": 22,
     "metadata": {},
     "output_type": "execute_result"
    }
   ],
   "source": [
    "from shapely.geometry import Polygon\n",
    "from shapely.ops import cascaded_union\n",
    "\n",
    "# примеры полигонов:\n",
    "polygon1 = Polygon([(0, 0), (1, 0), (1, 1)])\n",
    "polygon2 = Polygon([(1, 1), (2, 1), (2, 2)])\n",
    "polygon3 = Polygon([(2, 2), (3, 2), (3, 3)])\n",
    "\n",
    "# объединяем:\n",
    "list_of_polygons = [polygon1, polygon2, polygon3]\n",
    "united_polygon = cascaded_union(list_of_polygons)\n",
    "\n",
    "united_polygon"
   ]
  },
  {
   "cell_type": "markdown",
   "id": "26d5b7b1-8a4b-42af-990e-59ae5b6c6077",
   "metadata": {
    "jp-MarkdownHeadingCollapsed": true,
    "tags": []
   },
   "source": [
    "# 6. Как записать полигон в виде строки и конвертировать обратно в shapely.geometry.polygon.Polygon:"
   ]
  },
  {
   "cell_type": "code",
   "execution_count": 23,
   "id": "1db83903-15ff-440d-a5c5-8ea63ecc4ef1",
   "metadata": {
    "tags": []
   },
   "outputs": [
    {
     "data": {
      "text/plain": [
       "shapely.geometry.polygon.Polygon"
      ]
     },
     "execution_count": 23,
     "metadata": {},
     "output_type": "execute_result"
    }
   ],
   "source": [
    "from shapely.geometry import Polygon\n",
    "from shapely import wkt\n",
    "\n",
    "# пример полигона:\n",
    "polygon1 = Polygon([(0, 0), (1, 0), (1, 1)])\n",
    "\n",
    "# конвертируем в строку:\n",
    "str_polygon = str(polygon1)\n",
    "\n",
    "# конвертируем в полигон:\n",
    "polygon2 = wkt.loads(str_polygon)\n",
    "type(polygon2)"
   ]
  },
  {
   "cell_type": "markdown",
   "id": "eff4b777-c1d9-4467-9c41-98b610a8aed6",
   "metadata": {
    "jp-MarkdownHeadingCollapsed": true,
    "tags": []
   },
   "source": [
    "# 7. Функция получения ссылки на Я.Карту из координат:"
   ]
  },
  {
   "cell_type": "code",
   "execution_count": 24,
   "id": "999186c9-f16f-4127-95d8-3769c696219f",
   "metadata": {
    "tags": []
   },
   "outputs": [],
   "source": [
    "def get_yandex_map_url(latitude:float, longitude:float, zoom: int=18) -> str:\n",
    "\n",
    "    \"\"\"\n",
    "    Метод для получения ссылки на Карту Яндекс с отмеченной коордиантой\n",
    "    \n",
    "    Parameters:\n",
    "    latitude: float - широта\n",
    "    longitude: float - долгота\n",
    "    zoom: int - степень зумммирования\n",
    "    \n",
    "    Returns:\n",
    "    str - URL карты\n",
    "    \"\"\"\n",
    "    \n",
    "    return f\"https://yandex.ru/maps/?ll={longitude},{latitude}&mode=whatshere&whatshere[point]={longitude},{latitude}&whatshere&z={zoom}\""
   ]
  },
  {
   "cell_type": "code",
   "execution_count": 25,
   "id": "9473e362-2c83-402a-b0ea-24a0b1fb2531",
   "metadata": {
    "tags": []
   },
   "outputs": [
    {
     "data": {
      "text/plain": [
       "'https://yandex.ru/maps/?ll=30.3351,59.9343&mode=whatshere&whatshere[point]=30.3351,59.9343&whatshere&z=18'"
      ]
     },
     "execution_count": 25,
     "metadata": {},
     "output_type": "execute_result"
    }
   ],
   "source": [
    "# центр Санкт-Петербурга:\n",
    "get_yandex_map_url(59.9343, 30.3351)"
   ]
  },
  {
   "cell_type": "markdown",
   "id": "71ba03ee-b684-4381-827c-2d9694030b58",
   "metadata": {
    "jp-MarkdownHeadingCollapsed": true,
    "tags": []
   },
   "source": [
    "# 8. Как определить население в радиусе n метров вокруг точек (ПВЗ):"
   ]
  },
  {
   "cell_type": "code",
   "execution_count": 26,
   "id": "cb3b7e8d-3428-44df-99ad-952f118001a7",
   "metadata": {
    "tags": []
   },
   "outputs": [],
   "source": [
    "import pandas as pd\n",
    "import numpy as np\n",
    "import geopandas as gpd\n",
    "from random import randint"
   ]
  },
  {
   "cell_type": "code",
   "execution_count": 27,
   "id": "754f6a78-3b72-4eea-a5ba-43290efc50e6",
   "metadata": {},
   "outputs": [
    {
     "data": {
      "text/html": [
       "<div>\n",
       "<style scoped>\n",
       "    .dataframe tbody tr th:only-of-type {\n",
       "        vertical-align: middle;\n",
       "    }\n",
       "\n",
       "    .dataframe tbody tr th {\n",
       "        vertical-align: top;\n",
       "    }\n",
       "\n",
       "    .dataframe thead th {\n",
       "        text-align: right;\n",
       "    }\n",
       "</style>\n",
       "<table border=\"1\" class=\"dataframe\">\n",
       "  <thead>\n",
       "    <tr style=\"text-align: right;\">\n",
       "      <th></th>\n",
       "      <th>latitude</th>\n",
       "      <th>longitude</th>\n",
       "      <th>people</th>\n",
       "      <th>geometry</th>\n",
       "    </tr>\n",
       "  </thead>\n",
       "  <tbody>\n",
       "    <tr>\n",
       "      <th>0</th>\n",
       "      <td>55.875103</td>\n",
       "      <td>37.508765</td>\n",
       "      <td>101</td>\n",
       "      <td>POINT (37.50876 55.87510)</td>\n",
       "    </tr>\n",
       "    <tr>\n",
       "      <th>1</th>\n",
       "      <td>55.776994</td>\n",
       "      <td>37.652432</td>\n",
       "      <td>576</td>\n",
       "      <td>POINT (37.65243 55.77699)</td>\n",
       "    </tr>\n",
       "    <tr>\n",
       "      <th>2</th>\n",
       "      <td>55.679255</td>\n",
       "      <td>37.678029</td>\n",
       "      <td>24</td>\n",
       "      <td>POINT (37.67803 55.67925)</td>\n",
       "    </tr>\n",
       "    <tr>\n",
       "      <th>3</th>\n",
       "      <td>55.583259</td>\n",
       "      <td>37.596031</td>\n",
       "      <td>885</td>\n",
       "      <td>POINT (37.59603 55.58326)</td>\n",
       "    </tr>\n",
       "    <tr>\n",
       "      <th>4</th>\n",
       "      <td>55.761906</td>\n",
       "      <td>37.811771</td>\n",
       "      <td>831</td>\n",
       "      <td>POINT (37.81177 55.76191)</td>\n",
       "    </tr>\n",
       "  </tbody>\n",
       "</table>\n",
       "</div>"
      ],
      "text/plain": [
       "    latitude  longitude  people                   geometry\n",
       "0  55.875103  37.508765     101  POINT (37.50876 55.87510)\n",
       "1  55.776994  37.652432     576  POINT (37.65243 55.77699)\n",
       "2  55.679255  37.678029      24  POINT (37.67803 55.67925)\n",
       "3  55.583259  37.596031     885  POINT (37.59603 55.58326)\n",
       "4  55.761906  37.811771     831  POINT (37.81177 55.76191)"
      ]
     },
     "execution_count": 27,
     "metadata": {},
     "output_type": "execute_result"
    }
   ],
   "source": [
    "# датафрейм с коордиантами домов и их населением (пример):\n",
    "\n",
    "houses = pd.DataFrame({\n",
    "    'latitude': np.random.uniform(55.5617, 55.9119, 10000),\n",
    "    'longitude': np.random.uniform(37.3587, 37.9368, 10000),\n",
    "    'people': np.random.randint(1, 1000, 10000)\n",
    "})\n",
    "\n",
    "out_gdf = gpd.GeoDataFrame(houses, geometry=gpd.points_from_xy(houses.longitude, houses.latitude))\n",
    "out_gdf.head()"
   ]
  },
  {
   "cell_type": "code",
   "execution_count": 28,
   "id": "f2c5dab1-549d-40c3-8e09-fa2581b63c5c",
   "metadata": {
    "tags": []
   },
   "outputs": [
    {
     "data": {
      "text/html": [
       "<div>\n",
       "<style scoped>\n",
       "    .dataframe tbody tr th:only-of-type {\n",
       "        vertical-align: middle;\n",
       "    }\n",
       "\n",
       "    .dataframe tbody tr th {\n",
       "        vertical-align: top;\n",
       "    }\n",
       "\n",
       "    .dataframe thead th {\n",
       "        text-align: right;\n",
       "    }\n",
       "</style>\n",
       "<table border=\"1\" class=\"dataframe\">\n",
       "  <thead>\n",
       "    <tr style=\"text-align: right;\">\n",
       "      <th></th>\n",
       "      <th>pvz_id</th>\n",
       "      <th>latitude</th>\n",
       "      <th>longitude</th>\n",
       "    </tr>\n",
       "  </thead>\n",
       "  <tbody>\n",
       "    <tr>\n",
       "      <th>0</th>\n",
       "      <td>000000197461</td>\n",
       "      <td>55.571576</td>\n",
       "      <td>37.785091</td>\n",
       "    </tr>\n",
       "    <tr>\n",
       "      <th>1</th>\n",
       "      <td>000000148658</td>\n",
       "      <td>55.712783</td>\n",
       "      <td>37.619444</td>\n",
       "    </tr>\n",
       "    <tr>\n",
       "      <th>2</th>\n",
       "      <td>000000112160</td>\n",
       "      <td>55.585382</td>\n",
       "      <td>37.386151</td>\n",
       "    </tr>\n",
       "    <tr>\n",
       "      <th>3</th>\n",
       "      <td>000000197801</td>\n",
       "      <td>55.873644</td>\n",
       "      <td>37.742097</td>\n",
       "    </tr>\n",
       "    <tr>\n",
       "      <th>4</th>\n",
       "      <td>000000167865</td>\n",
       "      <td>55.837506</td>\n",
       "      <td>37.571826</td>\n",
       "    </tr>\n",
       "  </tbody>\n",
       "</table>\n",
       "</div>"
      ],
      "text/plain": [
       "         pvz_id   latitude  longitude\n",
       "0  000000197461  55.571576  37.785091\n",
       "1  000000148658  55.712783  37.619444\n",
       "2  000000112160  55.585382  37.386151\n",
       "3  000000197801  55.873644  37.742097\n",
       "4  000000167865  55.837506  37.571826"
      ]
     },
     "execution_count": 28,
     "metadata": {},
     "output_type": "execute_result"
    }
   ],
   "source": [
    "# датафрейм с коордианатами пунктов выдачи (пример):\n",
    "\n",
    "pvz = pd.DataFrame({\n",
    "    'pvz_id':[f'000000{randint(100000,200000)}' for i in range(100)],\n",
    "    'latitude': np.random.uniform(55.5617, 55.9119, 100),\n",
    "    'longitude': np.random.uniform(37.3587, 37.9368, 100)\n",
    "})\n",
    "\n",
    "pvz.head()"
   ]
  },
  {
   "cell_type": "code",
   "execution_count": 29,
   "id": "022bb52a-4901-422b-96a7-e89df4e44bb8",
   "metadata": {
    "tags": []
   },
   "outputs": [],
   "source": [
    "# функция рисования кругов вокруг ПВЗ:\n",
    "\n",
    "import geopandas as gpd\n",
    "import json\n",
    "from functools import partial\n",
    "import pyproj\n",
    "from shapely import geometry\n",
    "from shapely.geometry import Point\n",
    "from shapely.ops import transform\n",
    "import warnings\n",
    "warnings.filterwarnings('ignore')\n",
    "\n",
    "\n",
    "def create_circle(lat, lon, radius=1000):\n",
    "\n",
    "    local_azimuthal_projection = \"+proj=aeqd +R=6371000 +units=m +lat_0={} +lon_0={}\".format(lat, lon)\n",
    "    \n",
    "    wgs84_to_aeqd = partial(\n",
    "        pyproj.transform,\n",
    "        pyproj.Proj(\"+proj=longlat +datum=WGS84 +no_defs\"),\n",
    "        pyproj.Proj(local_azimuthal_projection),\n",
    "    )\n",
    "    \n",
    "    aeqd_to_wgs84 = partial(\n",
    "        pyproj.transform,\n",
    "        pyproj.Proj(local_azimuthal_projection),\n",
    "        pyproj.Proj(\"+proj=longlat +datum=WGS84 +no_defs\"),\n",
    "    )\n",
    "\n",
    "    center = Point(float(lon), float(lat))\n",
    "    point_transformed = transform(wgs84_to_aeqd, center)\n",
    "    buffer = point_transformed.buffer(radius)\n",
    "    circle_poly = transform(aeqd_to_wgs84, buffer)\n",
    "    \n",
    "    return circle_poly"
   ]
  },
  {
   "cell_type": "code",
   "execution_count": 30,
   "id": "30b63f66-65bb-402f-b275-880295ce1301",
   "metadata": {
    "tags": []
   },
   "outputs": [],
   "source": [
    "# рисуем круги вокруг ПВЗ:\n",
    "pvz['geometry'] = pvz.apply(lambda row: create_circle(lat=row['latitude'], lon=row['longitude'], radius=500), axis=1)"
   ]
  },
  {
   "cell_type": "code",
   "execution_count": 32,
   "id": "2d62d375-eaf7-4f74-a908-96b6c4e6503e",
   "metadata": {
    "tags": []
   },
   "outputs": [
    {
     "data": {
      "text/html": [
       "<div>\n",
       "<style scoped>\n",
       "    .dataframe tbody tr th:only-of-type {\n",
       "        vertical-align: middle;\n",
       "    }\n",
       "\n",
       "    .dataframe tbody tr th {\n",
       "        vertical-align: top;\n",
       "    }\n",
       "\n",
       "    .dataframe thead th {\n",
       "        text-align: right;\n",
       "    }\n",
       "</style>\n",
       "<table border=\"1\" class=\"dataframe\">\n",
       "  <thead>\n",
       "    <tr style=\"text-align: right;\">\n",
       "      <th></th>\n",
       "      <th>pvz_id</th>\n",
       "      <th>people_in_500m</th>\n",
       "    </tr>\n",
       "  </thead>\n",
       "  <tbody>\n",
       "    <tr>\n",
       "      <th>0</th>\n",
       "      <td>000000100423</td>\n",
       "      <td>3095</td>\n",
       "    </tr>\n",
       "    <tr>\n",
       "      <th>1</th>\n",
       "      <td>000000100491</td>\n",
       "      <td>3272</td>\n",
       "    </tr>\n",
       "    <tr>\n",
       "      <th>2</th>\n",
       "      <td>000000100638</td>\n",
       "      <td>2598</td>\n",
       "    </tr>\n",
       "    <tr>\n",
       "      <th>3</th>\n",
       "      <td>000000103369</td>\n",
       "      <td>3807</td>\n",
       "    </tr>\n",
       "    <tr>\n",
       "      <th>4</th>\n",
       "      <td>000000103391</td>\n",
       "      <td>4232</td>\n",
       "    </tr>\n",
       "    <tr>\n",
       "      <th>...</th>\n",
       "      <td>...</td>\n",
       "      <td>...</td>\n",
       "    </tr>\n",
       "    <tr>\n",
       "      <th>95</th>\n",
       "      <td>000000198075</td>\n",
       "      <td>2942</td>\n",
       "    </tr>\n",
       "    <tr>\n",
       "      <th>96</th>\n",
       "      <td>000000198148</td>\n",
       "      <td>2331</td>\n",
       "    </tr>\n",
       "    <tr>\n",
       "      <th>97</th>\n",
       "      <td>000000198420</td>\n",
       "      <td>1854</td>\n",
       "    </tr>\n",
       "    <tr>\n",
       "      <th>98</th>\n",
       "      <td>000000198762</td>\n",
       "      <td>2821</td>\n",
       "    </tr>\n",
       "    <tr>\n",
       "      <th>99</th>\n",
       "      <td>000000198813</td>\n",
       "      <td>2073</td>\n",
       "    </tr>\n",
       "  </tbody>\n",
       "</table>\n",
       "<p>100 rows × 2 columns</p>\n",
       "</div>"
      ],
      "text/plain": [
       "          pvz_id  people_in_500m\n",
       "0   000000100423            3095\n",
       "1   000000100491            3272\n",
       "2   000000100638            2598\n",
       "3   000000103369            3807\n",
       "4   000000103391            4232\n",
       "..           ...             ...\n",
       "95  000000198075            2942\n",
       "96  000000198148            2331\n",
       "97  000000198420            1854\n",
       "98  000000198762            2821\n",
       "99  000000198813            2073\n",
       "\n",
       "[100 rows x 2 columns]"
      ]
     },
     "execution_count": 32,
     "metadata": {},
     "output_type": "execute_result"
    }
   ],
   "source": [
    "# узнаем сколько людей живет в кругах:\n",
    "pvz = gpd.GeoDataFrame(pvz, geometry='geometry', crs='EPSG:4326')\n",
    "data_house_pvz = pvz.sjoin(out_gdf, how='left')\n",
    "\n",
    "people_in_500m = data_house_pvz.groupby(['pvz_id'], as_index=False)\\\n",
    "                               .agg({'people':'sum'})\\\n",
    "                               .rename(columns={'people':'people_in_500m'})\n",
    "\n",
    "people_in_500m"
   ]
  },
  {
   "cell_type": "markdown",
   "id": "be9a84c8-0136-436a-a6f8-8961956e412a",
   "metadata": {
    "jp-MarkdownHeadingCollapsed": true,
    "tags": []
   },
   "source": [
    "# 9. Функция, к-рая возвращает дистанцию между двумя коордианатами в километрах:"
   ]
  },
  {
   "cell_type": "code",
   "execution_count": 139,
   "id": "475b07cc-4854-4f0a-a70a-b9ed1995e554",
   "metadata": {
    "tags": []
   },
   "outputs": [],
   "source": [
    "from geopy.distance import geodesic \n",
    "\n",
    "# функция, к-рая возвращает дистанцию между двумя коордианатами в километрах:\n",
    "def get_dist(lat1, lon1, lat2, lon2):\n",
    "    \n",
    "    coords1 = (lat1, lon1)\n",
    "    coords2 = (lat2, lon2)\n",
    "    \n",
    "    try: \n",
    "        return geodesic(coords1, coords2).kilometers\n",
    "    except:\n",
    "        return None "
   ]
  },
  {
   "cell_type": "code",
   "execution_count": 140,
   "id": "2592f7ce-dbba-4403-ad37-ff8064d23a05",
   "metadata": {
    "tags": []
   },
   "outputs": [
    {
     "data": {
      "text/plain": [
       "634.6140179781821"
      ]
     },
     "execution_count": 140,
     "metadata": {},
     "output_type": "execute_result"
    }
   ],
   "source": [
    "# Пример:\n",
    "moscow_coords = (55.7558, 37.6176) # Москва\n",
    "spb_coords = (59.9343, 30.3351) # Санкт-Петербург\n",
    "\n",
    "# Вычисляем расстояние\n",
    "get_dist(moscow_coords[0], moscow_coords[1], spb_coords[0], spb_coords[1])"
   ]
  },
  {
   "cell_type": "markdown",
   "id": "b411ae25-d8ed-494e-84fb-5a1ebd8a99c6",
   "metadata": {
    "jp-MarkdownHeadingCollapsed": true,
    "tags": []
   },
   "source": [
    "# 10. Функции из сервиса  OpenRouteService:"
   ]
  },
  {
   "cell_type": "code",
   "execution_count": 59,
   "id": "3cd74971-265c-4167-a930-e49d9e51fc3b",
   "metadata": {
    "tags": []
   },
   "outputs": [],
   "source": [
    "# pip install openrouteservice"
   ]
  },
  {
   "cell_type": "markdown",
   "id": "2b8c935e-bbc3-48a4-838f-0e2c5c3c8423",
   "metadata": {},
   "source": [
    "Чтобы получить токен, надо зайти на https://openrouteservice.org, нажать **Log In**, зарегистрироваться и потом нажать **Tokens**"
   ]
  },
  {
   "cell_type": "code",
   "execution_count": 89,
   "id": "9659d5fe-d02a-4423-a37d-3bcf7ba66cec",
   "metadata": {
    "tags": []
   },
   "outputs": [],
   "source": [
    "token = '5b3ce3597851110001cf6248b44b7786dae045c4a797166b65840f9c'"
   ]
  },
  {
   "cell_type": "markdown",
   "id": "7be11271-b08e-4c72-94f5-8c8ab6526e4f",
   "metadata": {},
   "source": [
    "## Функция получения полигона n-минутной пешей доступности:"
   ]
  },
  {
   "cell_type": "code",
   "execution_count": 132,
   "id": "2cc3e8f0-c1a0-4234-b207-2ad1ecc8c158",
   "metadata": {
    "tags": []
   },
   "outputs": [],
   "source": [
    "import requests\n",
    "from shapely.geometry import shape, Polygon\n",
    "\n",
    "def get_feet_isochrone_polygon(latitude:float, longitude:float, token:str, minutes=7):\n",
    "    \"\"\"\n",
    "    Функция для получения зоны пешей n-минутной доступности с OpenRouteService\n",
    "    \n",
    "    Parameters:\n",
    "    latitude: float - широта исходной точки\n",
    "    longitude: float - долгота исходной точки\n",
    "    minutes: int - количество минут для зоны доступности (по умолчанию 7 минут)\n",
    "    token: str - API ключ для доступа к OpenRouteService\n",
    "    \n",
    "    Returns: shapely.geometry.polygon.Polygon\n",
    "    \"\"\"\n",
    "    \n",
    "    try:\n",
    "        iso_params = {\n",
    "            'locations': [[longitude, latitude]],\n",
    "            'profile': 'foot-walking',\n",
    "            'range': [minutes * 60], \n",
    "            'attributes': ['total_pop', 'area'] # получаем в ответе запросы населени и площадь полигона\n",
    "        }\n",
    "        \n",
    "        headers = {\n",
    "            'Authorization': token,\n",
    "            'Content-Type': 'application/json'\n",
    "        }\n",
    "        \n",
    "        url = 'https://api.openrouteservice.org/v2/isochrones/foot-walking'\n",
    "        response = requests.post(url, headers=headers, json=iso_params)\n",
    "        response.raise_for_status()  # Проверка на ошибки\n",
    "        \n",
    "        response_data = response.json()\n",
    "        polygon = shape(response_data['features'][0]['geometry'])\n",
    "        return polygon\n",
    "    \n",
    "    except Exception as err:\n",
    "        print(f\"Error occurred: {err}\")\n",
    "        return None"
   ]
  },
  {
   "cell_type": "code",
   "execution_count": 133,
   "id": "8321da7f-701c-4fcd-8886-2317692f71a1",
   "metadata": {
    "tags": []
   },
   "outputs": [
    {
     "data": {
      "text/plain": [
       "shapely.geometry.polygon.Polygon"
      ]
     },
     "execution_count": 133,
     "metadata": {},
     "output_type": "execute_result"
    }
   ],
   "source": [
    "# Пример:\n",
    "\n",
    "latitude = 55.7558\n",
    "longitude = 37.6176\n",
    "minutes = 60\n",
    "token = '5b3ce3597851110001cf6248b44b7786dae045c4a797166b65840f9c'  \n",
    "\n",
    "polygon = get_isochrone_polygon(latitude, longitude, token, minutes)\n",
    "\n",
    "type(polygon)"
   ]
  },
  {
   "cell_type": "code",
   "execution_count": 134,
   "id": "35087c2b-f206-4f7e-87a7-f8723385c21c",
   "metadata": {
    "tags": []
   },
   "outputs": [
    {
     "data": {
      "text/html": [
       "<div style=\"width:100%;\"><div style=\"position:relative;width:100%;height:0;padding-bottom:60%;\"><span style=\"color:#565656\">Make this Notebook Trusted to load map: File -> Trust Notebook</span><iframe srcdoc=\"&lt;!DOCTYPE html&gt;\n",
       "&lt;html&gt;\n",
       "&lt;head&gt;\n",
       "    \n",
       "    &lt;meta http-equiv=&quot;content-type&quot; content=&quot;text/html; charset=UTF-8&quot; /&gt;\n",
       "    \n",
       "        &lt;script&gt;\n",
       "            L_NO_TOUCH = false;\n",
       "            L_DISABLE_3D = false;\n",
       "        &lt;/script&gt;\n",
       "    \n",
       "    &lt;style&gt;html, body {width: 100%;height: 100%;margin: 0;padding: 0;}&lt;/style&gt;\n",
       "    &lt;style&gt;#map {position:absolute;top:0;bottom:0;right:0;left:0;}&lt;/style&gt;\n",
       "    &lt;script src=&quot;https://cdn.jsdelivr.net/npm/leaflet@1.6.0/dist/leaflet.js&quot;&gt;&lt;/script&gt;\n",
       "    &lt;script src=&quot;https://code.jquery.com/jquery-1.12.4.min.js&quot;&gt;&lt;/script&gt;\n",
       "    &lt;script src=&quot;https://maxcdn.bootstrapcdn.com/bootstrap/3.2.0/js/bootstrap.min.js&quot;&gt;&lt;/script&gt;\n",
       "    &lt;script src=&quot;https://cdnjs.cloudflare.com/ajax/libs/Leaflet.awesome-markers/2.0.2/leaflet.awesome-markers.js&quot;&gt;&lt;/script&gt;\n",
       "    &lt;link rel=&quot;stylesheet&quot; href=&quot;https://cdn.jsdelivr.net/npm/leaflet@1.6.0/dist/leaflet.css&quot;/&gt;\n",
       "    &lt;link rel=&quot;stylesheet&quot; href=&quot;https://maxcdn.bootstrapcdn.com/bootstrap/3.2.0/css/bootstrap.min.css&quot;/&gt;\n",
       "    &lt;link rel=&quot;stylesheet&quot; href=&quot;https://maxcdn.bootstrapcdn.com/bootstrap/3.2.0/css/bootstrap-theme.min.css&quot;/&gt;\n",
       "    &lt;link rel=&quot;stylesheet&quot; href=&quot;https://maxcdn.bootstrapcdn.com/font-awesome/4.6.3/css/font-awesome.min.css&quot;/&gt;\n",
       "    &lt;link rel=&quot;stylesheet&quot; href=&quot;https://cdnjs.cloudflare.com/ajax/libs/Leaflet.awesome-markers/2.0.2/leaflet.awesome-markers.css&quot;/&gt;\n",
       "    &lt;link rel=&quot;stylesheet&quot; href=&quot;https://cdn.jsdelivr.net/gh/python-visualization/folium/folium/templates/leaflet.awesome.rotate.min.css&quot;/&gt;\n",
       "    \n",
       "            &lt;meta name=&quot;viewport&quot; content=&quot;width=device-width,\n",
       "                initial-scale=1.0, maximum-scale=1.0, user-scalable=no&quot; /&gt;\n",
       "            &lt;style&gt;\n",
       "                #map_f481603c2972cd6ac859ab62e6774057 {\n",
       "                    position: relative;\n",
       "                    width: 100.0%;\n",
       "                    height: 100.0%;\n",
       "                    left: 0.0%;\n",
       "                    top: 0.0%;\n",
       "                }\n",
       "            &lt;/style&gt;\n",
       "        \n",
       "&lt;/head&gt;\n",
       "&lt;body&gt;\n",
       "    \n",
       "    \n",
       "            &lt;div class=&quot;folium-map&quot; id=&quot;map_f481603c2972cd6ac859ab62e6774057&quot; &gt;&lt;/div&gt;\n",
       "        \n",
       "&lt;/body&gt;\n",
       "&lt;script&gt;\n",
       "    \n",
       "    \n",
       "            var map_f481603c2972cd6ac859ab62e6774057 = L.map(\n",
       "                &quot;map_f481603c2972cd6ac859ab62e6774057&quot;,\n",
       "                {\n",
       "                    center: [55.7558, 37.6176],\n",
       "                    crs: L.CRS.EPSG3857,\n",
       "                    zoom: 12,\n",
       "                    zoomControl: true,\n",
       "                    preferCanvas: false,\n",
       "                }\n",
       "            );\n",
       "\n",
       "            \n",
       "\n",
       "        \n",
       "    \n",
       "            var tile_layer_e5a8b6eb1ec5d2620e7bb28e7d668f0e = L.tileLayer(\n",
       "                &quot;https://{s}.tile.openstreetmap.org/{z}/{x}/{y}.png&quot;,\n",
       "                {&quot;attribution&quot;: &quot;Data by \\u0026copy; \\u003ca href=\\&quot;http://openstreetmap.org\\&quot;\\u003eOpenStreetMap\\u003c/a\\u003e, under \\u003ca href=\\&quot;http://www.openstreetmap.org/copyright\\&quot;\\u003eODbL\\u003c/a\\u003e.&quot;, &quot;detectRetina&quot;: false, &quot;maxNativeZoom&quot;: 18, &quot;maxZoom&quot;: 18, &quot;minZoom&quot;: 0, &quot;noWrap&quot;: false, &quot;opacity&quot;: 1, &quot;subdomains&quot;: &quot;abc&quot;, &quot;tms&quot;: false}\n",
       "            ).addTo(map_f481603c2972cd6ac859ab62e6774057);\n",
       "        \n",
       "    \n",
       "\n",
       "        function geo_json_d155bf22bc90620ba8a326a81b3edaba_onEachFeature(feature, layer) {\n",
       "            layer.on({\n",
       "            });\n",
       "        };\n",
       "        var geo_json_d155bf22bc90620ba8a326a81b3edaba = L.geoJson(null, {\n",
       "                onEachFeature: geo_json_d155bf22bc90620ba8a326a81b3edaba_onEachFeature,\n",
       "            \n",
       "        });\n",
       "\n",
       "        function geo_json_d155bf22bc90620ba8a326a81b3edaba_add (data) {\n",
       "            geo_json_d155bf22bc90620ba8a326a81b3edaba\n",
       "                .addData(data)\n",
       "                .addTo(map_f481603c2972cd6ac859ab62e6774057);\n",
       "        }\n",
       "            geo_json_d155bf22bc90620ba8a326a81b3edaba_add({&quot;coordinates&quot;: [[[37.545611, 55.762946], [37.546525, 55.757345], [37.546259, 55.756081], [37.546194, 55.755695], [37.546122, 55.751033], [37.547062, 55.746844], [37.546664, 55.744257], [37.546713, 55.7439], [37.547335, 55.743569], [37.551568, 55.740013], [37.551645, 55.73993], [37.554966, 55.736011], [37.556884, 55.736533], [37.560028, 55.732199], [37.560055, 55.731848], [37.560083, 55.728958], [37.560194, 55.728022], [37.560226, 55.727668], [37.561519, 55.726119], [37.561525, 55.726114], [37.564134, 55.725297], [37.565102, 55.724963], [37.567227, 55.724797], [37.571298, 55.722288], [37.571314, 55.722277], [37.571718, 55.722047], [37.573985, 55.720633], [37.574035, 55.72061], [37.574274, 55.7205], [37.574356, 55.720463], [37.575127, 55.720271], [37.575427, 55.720293], [37.575748, 55.72032], [37.575955, 55.720336], [37.580986, 55.717323], [37.581524, 55.716466], [37.582637, 55.716221], [37.583365, 55.716601], [37.587798, 55.717675], [37.589415, 55.717389], [37.589656, 55.71735], [37.591184, 55.717145], [37.594481, 55.716295], [37.59601, 55.716458], [37.598814, 55.716433], [37.602498, 55.714652], [37.607082, 55.71385], [37.608654, 55.713808], [37.61111, 55.714531], [37.616261, 55.714583], [37.619597, 55.712951], [37.619938, 55.712786], [37.622399, 55.712169], [37.622855, 55.712066], [37.627247, 55.712117], [37.631291, 55.713724], [37.633845, 55.714741], [37.635636, 55.715673], [37.640798, 55.716211], [37.643094, 55.716466], [37.648109, 55.719003], [37.653669, 55.720763], [37.656756, 55.721065], [37.65696, 55.721108], [37.657573, 55.721375], [37.662228, 55.723878], [37.664675, 55.724663], [37.666072, 55.725852], [37.667454, 55.726829], [37.669422, 55.728095], [37.673349, 55.728886], [37.673871, 55.728941], [37.675477, 55.730208], [37.679258, 55.734048], [37.681362, 55.735534], [37.682554, 55.736404], [37.684217, 55.737661], [37.684259, 55.737792], [37.684912, 55.742198], [37.68702, 55.743765], [37.687162, 55.743943], [37.687601, 55.744687], [37.687848, 55.745183], [37.687631, 55.748776], [37.683766, 55.751682], [37.682708, 55.755381], [37.684508, 55.758603], [37.684817, 55.758871], [37.686136, 55.762108], [37.686317, 55.762449], [37.687078, 55.763685], [37.68605, 55.769377], [37.683827, 55.774778], [37.683509, 55.77569], [37.683488, 55.775709], [37.681541, 55.776217], [37.677981, 55.780175], [37.674177, 55.784523], [37.673846, 55.784663], [37.673176, 55.784729], [37.672526, 55.784728], [37.67069, 55.784754], [37.665775, 55.785407], [37.662774, 55.785577], [37.662616, 55.785583], [37.662509, 55.785586], [37.659656, 55.785713], [37.658371, 55.785821], [37.653353, 55.78761], [37.652278, 55.788151], [37.651588, 55.78827], [37.647563, 55.788742], [37.641944, 55.788686], [37.640925, 55.791139], [37.640915, 55.79131], [37.640823, 55.791633], [37.640773, 55.794042], [37.640627, 55.794138], [37.63851, 55.794304], [37.633805, 55.795543], [37.632757, 55.795619], [37.627326, 55.796516], [37.624114, 55.798448], [37.624001, 55.798446], [37.622142, 55.798407], [37.616488, 55.798826], [37.61623, 55.798821], [37.611148, 55.798124], [37.609567, 55.797296], [37.603628, 55.796497], [37.603084, 55.79627], [37.600785, 55.795497], [37.597069, 55.794619], [37.593255, 55.795407], [37.589987, 55.795985], [37.58808, 55.795903], [37.587827, 55.795889], [37.585884, 55.795296], [37.585845, 55.795277], [37.58449, 55.794534], [37.583433, 55.793599], [37.581915, 55.791503], [37.578446, 55.790158], [37.578286, 55.790132], [37.574694, 55.789456], [37.572724, 55.789364], [37.571951, 55.789306], [37.570969, 55.789152], [37.566268, 55.788288], [37.566154, 55.788263], [37.564406, 55.787627], [37.563346, 55.786689], [37.562997, 55.786221], [37.562429, 55.785033], [37.562513, 55.784493], [37.562187, 55.780336], [37.562319, 55.780195], [37.562965, 55.779715], [37.563566, 55.779513], [37.564427, 55.779974], [37.565666, 55.78059], [37.570202, 55.777243], [37.570581, 55.776398], [37.568455, 55.771589], [37.566477, 55.771258], [37.565152, 55.770974], [37.564553, 55.770875], [37.562538, 55.770858], [37.561885, 55.771006], [37.56156, 55.771096], [37.561422, 55.7711], [37.560898, 55.771065], [37.557157, 55.772919], [37.556655, 55.773265], [37.55622, 55.773436], [37.555785, 55.773525], [37.555499, 55.773549], [37.555278, 55.773556], [37.552429, 55.771541], [37.551448, 55.770274], [37.546751, 55.767113], [37.54612, 55.76677], [37.544631, 55.765555], [37.544541, 55.765311], [37.545611, 55.762946]]], &quot;type&quot;: &quot;Polygon&quot;});\n",
       "\n",
       "        \n",
       "    \n",
       "            var circle_marker_63b07b0c3c2aaebf4353ecd14a772f7c = L.circleMarker(\n",
       "                [55.7558, 37.6176],\n",
       "                {&quot;bubblingMouseEvents&quot;: true, &quot;color&quot;: &quot;red&quot;, &quot;dashArray&quot;: null, &quot;dashOffset&quot;: null, &quot;fill&quot;: true, &quot;fillColor&quot;: &quot;red&quot;, &quot;fillOpacity&quot;: 0.9, &quot;fillRule&quot;: &quot;evenodd&quot;, &quot;lineCap&quot;: &quot;round&quot;, &quot;lineJoin&quot;: &quot;round&quot;, &quot;opacity&quot;: 1.0, &quot;radius&quot;: 10, &quot;stroke&quot;: true, &quot;weight&quot;: 3}\n",
       "            ).addTo(map_f481603c2972cd6ac859ab62e6774057);\n",
       "        \n",
       "&lt;/script&gt;\n",
       "&lt;/html&gt;\" style=\"position:absolute;width:100%;height:100%;left:0;top:0;border:none !important;\" allowfullscreen webkitallowfullscreen mozallowfullscreen></iframe></div></div>"
      ],
      "text/plain": [
       "<folium.folium.Map at 0x131685810>"
      ]
     },
     "execution_count": 134,
     "metadata": {},
     "output_type": "execute_result"
    }
   ],
   "source": [
    "# визуализируем результат (60-минутная пешая доступность от центра Москвы):\n",
    "import folium\n",
    "m = folium.Map(location=[55.7558, 37.6176], zoom_start=12)\n",
    "folium.GeoJson(polygon).add_to(m)\n",
    "folium.CircleMarker(location=[55.7558, 37.6176], color='red', fill=True, fill_color='red', fill_opacity=0.9).add_to(m)\n",
    "m"
   ]
  },
  {
   "cell_type": "markdown",
   "id": "7a73a27b-cdd1-44e5-ae6f-be0efdf21451",
   "metadata": {},
   "source": [
    "## Функция построения маршрута между двумя точками:"
   ]
  },
  {
   "cell_type": "code",
   "execution_count": 135,
   "id": "f3dda7ec-b2a0-4d12-8971-814907500c71",
   "metadata": {
    "tags": []
   },
   "outputs": [],
   "source": [
    "from openrouteservice import client\n",
    "from shapely.geometry import LineString\n",
    "\n",
    "# инициализируем клиента OpenRouteService:\n",
    "token = '5b3ce3597851110001cf6248b44b7786dae045c4a797166b65840f9c'  \n",
    "ors = client.Client(key=token)\n",
    "\n",
    "# функция:\n",
    "def create_route(latitude1: float, longitude1: float, latitude2: float, longitude2: float):\n",
    "    \"\"\"\n",
    "    Функция для построения маршрута между двумя точками (точки должны быть достижимы по дороге)\n",
    "    \n",
    "    Parameters:\n",
    "    latitude1: float - широта начальной точки\n",
    "    longitude1: float - долгота начальной точки\n",
    "    latitude2: float - широта конечной точки\n",
    "    longitude2: float - долгота конечной точки\n",
    "    \n",
    "    Returns: shapely.geometry.LineString - линия маршрута\n",
    "    \"\"\"\n",
    "    try:\n",
    "        coordinates = [[longitude1, latitude1], [longitude2, latitude2]]\n",
    "        route_request = {\n",
    "            'coordinates': coordinates,\n",
    "            'format_out': 'geojson',\n",
    "            'profile': 'driving-car',\n",
    "            'preference': 'shortest',\n",
    "            'instructions': False\n",
    "        }\n",
    "        \n",
    "        route_directions = ors.directions(**route_request)\n",
    "        route = LineString(route_directions['features'][0]['geometry']['coordinates'])\n",
    "        return route\n",
    "    \n",
    "    except Exception as err:\n",
    "        print(f\"Error occurred: {err}\")\n",
    "        return None"
   ]
  },
  {
   "cell_type": "code",
   "execution_count": 136,
   "id": "91565cd0-56dd-477c-af92-fdc5281dfece",
   "metadata": {
    "tags": []
   },
   "outputs": [
    {
     "data": {
      "text/plain": [
       "shapely.geometry.linestring.LineString"
      ]
     },
     "execution_count": 136,
     "metadata": {},
     "output_type": "execute_result"
    }
   ],
   "source": [
    "# Пример:\n",
    "\n",
    "latitude1 = 55.7558  # Москва\n",
    "longitude1 = 37.6176\n",
    "latitude2 = 59.9343  # Санкт-Петербург\n",
    "longitude2 = 30.3351\n",
    "\n",
    "route = create_route(\n",
    "    latitude1=latitude1,\n",
    "    longitude1=longitude1,\n",
    "    latitude2=latitude2,\n",
    "    longitude2=longitude2,\n",
    ")\n",
    "\n",
    "type(route)"
   ]
  },
  {
   "cell_type": "code",
   "execution_count": 137,
   "id": "6fa9289f-75ce-40e3-9e31-bdf08ab21c47",
   "metadata": {
    "tags": []
   },
   "outputs": [
    {
     "data": {
      "text/html": [
       "<div style=\"width:100%;\"><div style=\"position:relative;width:100%;height:0;padding-bottom:60%;\"><span style=\"color:#565656\">Make this Notebook Trusted to load map: File -> Trust Notebook</span><iframe srcdoc=\"&lt;!DOCTYPE html&gt;\n",
       "&lt;html&gt;\n",
       "&lt;head&gt;\n",
       "    \n",
       "    &lt;meta http-equiv=&quot;content-type&quot; content=&quot;text/html; charset=UTF-8&quot; /&gt;\n",
       "    \n",
       "        &lt;script&gt;\n",
       "            L_NO_TOUCH = false;\n",
       "            L_DISABLE_3D = false;\n",
       "        &lt;/script&gt;\n",
       "    \n",
       "    &lt;style&gt;html, body {width: 100%;height: 100%;margin: 0;padding: 0;}&lt;/style&gt;\n",
       "    &lt;style&gt;#map {position:absolute;top:0;bottom:0;right:0;left:0;}&lt;/style&gt;\n",
       "    &lt;script src=&quot;https://cdn.jsdelivr.net/npm/leaflet@1.6.0/dist/leaflet.js&quot;&gt;&lt;/script&gt;\n",
       "    &lt;script src=&quot;https://code.jquery.com/jquery-1.12.4.min.js&quot;&gt;&lt;/script&gt;\n",
       "    &lt;script src=&quot;https://maxcdn.bootstrapcdn.com/bootstrap/3.2.0/js/bootstrap.min.js&quot;&gt;&lt;/script&gt;\n",
       "    &lt;script src=&quot;https://cdnjs.cloudflare.com/ajax/libs/Leaflet.awesome-markers/2.0.2/leaflet.awesome-markers.js&quot;&gt;&lt;/script&gt;\n",
       "    &lt;link rel=&quot;stylesheet&quot; href=&quot;https://cdn.jsdelivr.net/npm/leaflet@1.6.0/dist/leaflet.css&quot;/&gt;\n",
       "    &lt;link rel=&quot;stylesheet&quot; href=&quot;https://maxcdn.bootstrapcdn.com/bootstrap/3.2.0/css/bootstrap.min.css&quot;/&gt;\n",
       "    &lt;link rel=&quot;stylesheet&quot; href=&quot;https://maxcdn.bootstrapcdn.com/bootstrap/3.2.0/css/bootstrap-theme.min.css&quot;/&gt;\n",
       "    &lt;link rel=&quot;stylesheet&quot; href=&quot;https://maxcdn.bootstrapcdn.com/font-awesome/4.6.3/css/font-awesome.min.css&quot;/&gt;\n",
       "    &lt;link rel=&quot;stylesheet&quot; href=&quot;https://cdnjs.cloudflare.com/ajax/libs/Leaflet.awesome-markers/2.0.2/leaflet.awesome-markers.css&quot;/&gt;\n",
       "    &lt;link rel=&quot;stylesheet&quot; href=&quot;https://cdn.jsdelivr.net/gh/python-visualization/folium/folium/templates/leaflet.awesome.rotate.min.css&quot;/&gt;\n",
       "    \n",
       "            &lt;meta name=&quot;viewport&quot; content=&quot;width=device-width,\n",
       "                initial-scale=1.0, maximum-scale=1.0, user-scalable=no&quot; /&gt;\n",
       "            &lt;style&gt;\n",
       "                #map_a8f109d8876bbf7f2833409e4308b18c {\n",
       "                    position: relative;\n",
       "                    width: 100.0%;\n",
       "                    height: 100.0%;\n",
       "                    left: 0.0%;\n",
       "                    top: 0.0%;\n",
       "                }\n",
       "            &lt;/style&gt;\n",
       "        \n",
       "&lt;/head&gt;\n",
       "&lt;body&gt;\n",
       "    \n",
       "    \n",
       "            &lt;div class=&quot;folium-map&quot; id=&quot;map_a8f109d8876bbf7f2833409e4308b18c&quot; &gt;&lt;/div&gt;\n",
       "        \n",
       "&lt;/body&gt;\n",
       "&lt;script&gt;\n",
       "    \n",
       "    \n",
       "            var map_a8f109d8876bbf7f2833409e4308b18c = L.map(\n",
       "                &quot;map_a8f109d8876bbf7f2833409e4308b18c&quot;,\n",
       "                {\n",
       "                    center: [55.7558, 37.6176],\n",
       "                    crs: L.CRS.EPSG3857,\n",
       "                    zoom: 5,\n",
       "                    zoomControl: true,\n",
       "                    preferCanvas: false,\n",
       "                }\n",
       "            );\n",
       "\n",
       "            \n",
       "\n",
       "        \n",
       "    \n",
       "            var tile_layer_e46f327ae2ada64036507b43cdfc153a = L.tileLayer(\n",
       "                &quot;https://{s}.tile.openstreetmap.org/{z}/{x}/{y}.png&quot;,\n",
       "                {&quot;attribution&quot;: &quot;Data by \\u0026copy; \\u003ca href=\\&quot;http://openstreetmap.org\\&quot;\\u003eOpenStreetMap\\u003c/a\\u003e, under \\u003ca href=\\&quot;http://www.openstreetmap.org/copyright\\&quot;\\u003eODbL\\u003c/a\\u003e.&quot;, &quot;detectRetina&quot;: false, &quot;maxNativeZoom&quot;: 18, &quot;maxZoom&quot;: 18, &quot;minZoom&quot;: 0, &quot;noWrap&quot;: false, &quot;opacity&quot;: 1, &quot;subdomains&quot;: &quot;abc&quot;, &quot;tms&quot;: false}\n",
       "            ).addTo(map_a8f109d8876bbf7f2833409e4308b18c);\n",
       "        \n",
       "    \n",
       "\n",
       "        function geo_json_5ac7345feca285876d689fe867282569_onEachFeature(feature, layer) {\n",
       "            layer.on({\n",
       "            });\n",
       "        };\n",
       "        var geo_json_5ac7345feca285876d689fe867282569 = L.geoJson(null, {\n",
       "                onEachFeature: geo_json_5ac7345feca285876d689fe867282569_onEachFeature,\n",
       "            \n",
       "        });\n",
       "\n",
       "        function geo_json_5ac7345feca285876d689fe867282569_add (data) {\n",
       "            geo_json_5ac7345feca285876d689fe867282569\n",
       "                .addData(data)\n",
       "                .addTo(map_a8f109d8876bbf7f2833409e4308b18c);\n",
       "        }\n",
       "            geo_json_5ac7345feca285876d689fe867282569_add({&quot;coordinates&quot;: [[37.617869, 55.756535], [37.618354, 55.756829], [37.618403, 55.756892], [37.618418, 55.75701], [37.618616, 55.757135], [37.618696, 55.757221], [37.618937, 55.757373], [37.619153, 55.757466], [37.62064, 55.75773], [37.620787, 55.757789], [37.620864, 55.757845], [37.620891, 55.757897], [37.620556, 55.758507], [37.620342, 55.758897], [37.620909, 55.758991], [37.621322, 55.759125], [37.621404, 55.759182], [37.621439, 55.759238], [37.621428, 55.75928], [37.620971, 55.760166], [37.620538, 55.760942], [37.620442, 55.761125], [37.620193, 55.761601], [37.620116, 55.761945], [37.620101, 55.762185], [37.620064, 55.762767], [37.620052, 55.762974], [37.620045, 55.763183], [37.62004, 55.763276], [37.620016, 55.763759], [37.620011, 55.763868], [37.619994, 55.764136], [37.619976, 55.764409], [37.619979, 55.764808], [37.620027, 55.764916], [37.620204, 55.76516], [37.620446, 55.765419], [37.620925, 55.765932], [37.621548, 55.7666], [37.621765, 55.766832], [37.62182, 55.766929], [37.622065, 55.76723], [37.621543, 55.767308], [37.621111, 55.767372], [37.620927, 55.767398], [37.620211, 55.7675], [37.619951, 55.767539], [37.619659, 55.767583], [37.618937, 55.767692], [37.617726, 55.767874], [37.61702, 55.767981], [37.615877, 55.768147], [37.615103, 55.768227], [37.614753, 55.768252], [37.614409, 55.768275], [37.613575, 55.768298], [37.613341, 55.768324], [37.612547, 55.76834], [37.612351, 55.768309], [37.610965, 55.767853], [37.610395, 55.767667], [37.609923, 55.767515], [37.609823, 55.767483], [37.609163, 55.767269], [37.608737, 55.767146], [37.60873, 55.767144], [37.608178, 55.766962], [37.607867, 55.766856], [37.607674, 55.766787], [37.607587, 55.766755], [37.606664, 55.766384], [37.606166, 55.766171], [37.605551, 55.765895], [37.604685, 55.765508], [37.604414, 55.765359], [37.602611, 55.766335], [37.6017, 55.766838], [37.601343, 55.767035], [37.600725, 55.767377], [37.600034, 55.767743], [37.59934, 55.768117], [37.598217, 55.768734], [37.596771, 55.769573], [37.595903, 55.77018], [37.595033, 55.770709], [37.594158, 55.771224], [37.59301, 55.771898], [37.592113, 55.772425], [37.591462, 55.772808], [37.590731, 55.773237], [37.589275, 55.774111], [37.588424, 55.774606], [37.587252, 55.775278], [37.586323, 55.775797], [37.585317, 55.776366], [37.584937, 55.776578], [37.584819, 55.776643], [37.584692, 55.776711], [37.584157, 55.776992], [37.583789, 55.777178], [37.58367, 55.777238], [37.583521, 55.77731], [37.582658, 55.777725], [37.581091, 55.778494], [37.58006, 55.77898], [37.574037, 55.781739], [37.566825, 55.785068], [37.564259, 55.786247], [37.551509, 55.791909], [37.546295, 55.794195], [37.543186, 55.795567], [37.537016, 55.798306], [37.532934, 55.800113], [37.53219, 55.800426], [37.531535, 55.800675], [37.531088, 55.800823], [37.530277, 55.801068], [37.528339, 55.801615], [37.526178, 55.802177], [37.524893, 55.80251], [37.524119, 55.802711], [37.52273, 55.803179], [37.522075, 55.803416], [37.520473, 55.803765], [37.520146, 55.803849], [37.519296, 55.804067], [37.517996, 55.804419], [37.517654, 55.804511], [37.516307, 55.804876], [37.515771, 55.805037], [37.515312, 55.805175], [37.514774, 55.80533], [37.514413, 55.805428], [37.514202, 55.805485], [37.51246, 55.805926], [37.51209, 55.806016], [37.511359, 55.806195], [37.511057, 55.806273], [37.510097, 55.806542], [37.509383, 55.806774], [37.508599, 55.807033], [37.508246, 55.807186], [37.508038, 55.807303], [37.507636, 55.807596], [37.507287, 55.807921], [37.506654, 55.808635], [37.506017, 55.809162], [37.505883, 55.809327], [37.503691, 55.812011], [37.503166, 55.812652], [37.503156, 55.812664], [37.501719, 55.814409], [37.501083, 55.815176], [37.49924, 55.817491], [37.498774, 55.818072], [37.496482, 55.820928], [37.496035, 55.821511], [37.495537, 55.822208], [37.49508, 55.822783], [37.494063, 55.824058], [37.493261, 55.825044], [37.49168, 55.826797], [37.491095, 55.827474], [37.490978, 55.827608], [37.489926, 55.828863], [37.48947, 55.829422], [37.488781, 55.830232], [37.488062, 55.831119], [37.486713, 55.83277], [37.486523, 55.832995], [37.485629, 55.834064], [37.484644, 55.835273], [37.483664, 55.836506], [37.481888, 55.838859], [37.481069, 55.83994], [37.478855, 55.84302], [37.478651, 55.843309], [37.477599, 55.844869], [37.477064, 55.845649], [37.474202, 55.84978], [37.471614, 55.853539], [37.471265, 55.854045], [37.470426, 55.855235], [37.469726, 55.856266], [37.469094, 55.857197], [37.468442, 55.858142], [37.46829, 55.858363], [37.468052, 55.858701], [37.467463, 55.859587], [37.466594, 55.860866], [37.466078, 55.861609], [37.46576, 55.862045], [37.465445, 55.862493], [37.465434, 55.86251], [37.464977, 55.863166], [37.464777, 55.863466], [37.463528, 55.865304], [37.463274, 55.865679], [37.46269, 55.866545], [37.462199, 55.867241], [37.461657, 55.868035], [37.461397, 55.868417], [37.461024, 55.868976], [37.460842, 55.869233], [37.460388, 55.869776], [37.45969, 55.870439], [37.459209, 55.870824], [37.458694, 55.871198], [37.458514, 55.87133], [37.457406, 55.872111], [37.454452, 55.874249], [37.453758, 55.874709], [37.452293, 55.875819], [37.450549, 55.877244], [37.450508, 55.877276], [37.448286, 55.879189], [37.447477, 55.87987], [37.445883, 55.881181], [37.445847, 55.88121], [37.444776, 55.882084], [37.444741, 55.882112], [37.4429, 55.883575], [37.442692, 55.883735], [37.441808, 55.884435], [37.441033, 55.885022], [37.439312, 55.886385], [37.438531, 55.886993], [37.437802, 55.887561], [37.437128, 55.888086], [37.436785, 55.88837], [37.435948, 55.889033], [37.434685, 55.890068], [37.434248, 55.89041], [37.432907, 55.891472], [37.431833, 55.89233], [37.429271, 55.894381], [37.427627, 55.895735], [37.425778, 55.897193], [37.424659, 55.898102], [37.423461, 55.89906], [37.422764, 55.899644], [37.421792, 55.900395], [37.420395, 55.901494], [37.419044, 55.902563], [37.418465, 55.902985], [37.418103, 55.903238], [37.416474, 55.904305], [37.416308, 55.904419], [37.41443, 55.905642], [37.409783, 55.908658], [37.408653, 55.909446], [37.407004, 55.910596], [37.40556, 55.911631], [37.404422, 55.91244], [37.403921, 55.912785], [37.403019, 55.913608], [37.402396, 55.914218], [37.40201, 55.914645], [37.401286, 55.91558], [37.400867, 55.916049], [37.399993, 55.916888], [37.399306, 55.917444], [37.398759, 55.917829], [37.39774, 55.918487], [37.397268, 55.91877], [37.395964, 55.919401], [37.393148, 55.920723], [37.39251, 55.921051], [37.390899, 55.92201], [37.390266, 55.922453], [37.390137, 55.922543], [37.387891, 55.924116], [37.385826, 55.925584], [37.385097, 55.926119], [37.383269, 55.927424], [37.382342, 55.928093], [37.380848, 55.929162], [37.378578, 55.930782], [37.377737, 55.931383], [37.37739, 55.931631], [37.376659, 55.932154], [37.372962, 55.934797], [37.369156, 55.937492], [37.368786, 55.937741], [37.368226, 55.93813], [37.367709, 55.938493], [37.36719, 55.938854], [37.367148, 55.938884], [37.365307, 55.940188], [37.36448, 55.940775], [37.363131, 55.941733], [37.361346, 55.943035], [37.355813, 55.94694], [37.355077, 55.94746], [37.353938, 55.948271], [37.352989, 55.948941], [37.351242, 55.950111], [37.349581, 55.951232], [37.348154, 55.95219], [37.347245, 55.952788], [37.346897, 55.953018], [37.343578, 55.9552], [37.340756, 55.957117], [37.339527, 55.957958], [37.339413, 55.958036], [37.338513, 55.958662], [37.336835, 55.959797], [37.335905, 55.960412], [37.335229, 55.960876], [37.333791, 55.96183], [37.332808, 55.962494], [37.332602, 55.962623], [37.332283, 55.962838], [37.332163, 55.962919], [37.330409, 55.964072], [37.329207, 55.964888], [37.328437, 55.965402], [37.324523, 55.968007], [37.323637, 55.968597], [37.323348, 55.968779], [37.322066, 55.969625], [37.318149, 55.972211], [37.317377, 55.972712], [37.316366, 55.973331], [37.316004, 55.973502], [37.315599, 55.973655], [37.314905, 55.97386], [37.314026, 55.974061], [37.313118, 55.974246], [37.312431, 55.974383], [37.311265, 55.974607], [37.309919, 55.974853], [37.309837, 55.974868], [37.30892, 55.975022], [37.307884, 55.975192], [37.307496, 55.975275], [37.307132, 55.975378], [37.306365, 55.975641], [37.305454, 55.976007], [37.304205, 55.9765], [37.303351, 55.976833], [37.301073, 55.977726], [37.299723, 55.978253], [37.296532, 55.979498], [37.292206, 55.981203], [37.290938, 55.981703], [37.288763, 55.98256], [37.286758, 55.983349], [37.28452, 55.984226], [37.283691, 55.984551], [37.283095, 55.984785], [37.282415, 55.985053], [37.279126, 55.986345], [37.277414, 55.987018], [37.277085, 55.987148], [37.276168, 55.987504], [37.274907, 55.987995], [37.273558, 55.988519], [37.270269, 55.989928], [37.269311, 55.990362], [37.268519, 55.990666], [37.265169, 55.991843], [37.264275, 55.99217], [37.262706, 55.992788], [37.262386, 55.992911], [37.258165, 55.994559], [37.256801, 55.995092], [37.256159, 55.995343], [37.255437, 55.995625], [37.254357, 55.996058], [37.250828, 55.99746], [37.249117, 55.998082], [37.249006, 55.998122], [37.248552, 55.998279], [37.244453, 55.999907], [37.244334, 55.999953], [37.241117, 56.00118], [37.238335, 56.002265], [37.235976, 56.003265], [37.234649, 56.003806], [37.222795, 56.00846], [37.221142, 56.009106], [37.219429, 56.009774], [37.218197, 56.010253], [37.215914, 56.011151], [37.213156, 56.012164], [37.208888, 56.0137], [37.206362, 56.014708], [37.201129, 56.016892], [37.198829, 56.017825], [37.185918, 56.022868], [37.183989, 56.023626], [37.183619, 56.023779], [37.181562, 56.024608], [37.178555, 56.025755], [37.177417, 56.026191], [37.177027, 56.026345], [37.176147, 56.026679], [37.1757, 56.026852], [37.174094, 56.027482], [37.173767, 56.02761], [37.172281, 56.028181], [37.171938, 56.028312], [37.168907, 56.029489], [37.167994, 56.029855], [37.167429, 56.030112], [37.167003, 56.03034], [37.166686, 56.030554], [37.16612, 56.030983], [37.165581, 56.031423], [37.165243, 56.03172], [37.164764, 56.032191], [37.164573, 56.032418], [37.164346, 56.03276], [37.164278, 56.032929], [37.164245, 56.033136], [37.164277, 56.03429], [37.164279, 56.034525], [37.164268, 56.034842], [37.164221, 56.035046], [37.164122, 56.035257], [37.163696, 56.035964], [37.162818, 56.037332], [37.162365, 56.038002], [37.161651, 56.039032], [37.160779, 56.040289], [37.159797, 56.041709], [37.156382, 56.046655], [37.156045, 56.04721], [37.155618, 56.047891], [37.155201, 56.048622], [37.154756, 56.049304], [37.153913, 56.050434], [37.151457, 56.053578], [37.151359, 56.0537], [37.150992, 56.054115], [37.150725, 56.054402], [37.149301, 56.055757], [37.14861, 56.056388], [37.148414, 56.056584], [37.147371, 56.057555], [37.147011, 56.05789], [37.145223, 56.059551], [37.144605, 56.060114], [37.143942, 56.060748], [37.143583, 56.061093], [37.14234, 56.062268], [37.140672, 56.063818], [37.140549, 56.063942], [37.139673, 56.064764], [37.139382, 56.065024], [37.138467, 56.065829], [37.137546, 56.066669], [37.137296, 56.066887], [37.135857, 56.068238], [37.135568, 56.068511], [37.135101, 56.068951], [37.134291, 56.069765], [37.133982, 56.070055], [37.133106, 56.070881], [37.132191, 56.071714], [37.131271, 56.072581], [37.131086, 56.072748], [37.130791, 56.073043], [37.130524, 56.073294], [37.130197, 56.073579], [37.129119, 56.074561], [37.128661, 56.074998], [37.128435, 56.075208], [37.127924, 56.075709], [37.12645, 56.077054], [37.125675, 56.077777], [37.125419, 56.078014], [37.124348, 56.07902], [37.123524, 56.079781], [37.120969, 56.082208], [37.117353, 56.085541], [37.113018, 56.089583], [37.110507, 56.091934], [37.10964, 56.092766], [37.108029, 56.094288], [37.107013, 56.09523], [37.106395, 56.095805], [37.103821, 56.098187], [37.103348, 56.09862], [37.103074, 56.098871], [37.102057, 56.099792], [37.10102, 56.100761], [37.100177, 56.101546], [37.099103, 56.102548], [37.098245, 56.103337], [37.09665, 56.104819], [37.093884, 56.107385], [37.093136, 56.108083], [37.08966, 56.111329], [37.087256, 56.113624], [37.083346, 56.117214], [37.077832, 56.122349], [37.077292, 56.122801], [37.076191, 56.123843], [37.074609, 56.125306], [37.074256, 56.12565], [37.072057, 56.127689], [37.070961, 56.128619], [37.069855, 56.129412], [37.068945, 56.129985], [37.068017, 56.13057], [37.066249, 56.131708], [37.06453, 56.132815], [37.063689, 56.133345], [37.062947, 56.13382], [37.062425, 56.134156], [37.060462, 56.135371], [37.056914, 56.137598], [37.055929, 56.138218], [37.054739, 56.139017], [37.053996, 56.139432], [37.05328, 56.139886], [37.050021, 56.14195], [37.04809, 56.143174], [37.046635, 56.144095], [37.0448, 56.145257], [37.042057, 56.147033], [37.041306, 56.14752], [37.040409, 56.148074], [37.038515, 56.14925], [37.036166, 56.150759], [37.034558, 56.151763], [37.033338, 56.15254], [37.031941, 56.153428], [37.031496, 56.15371], [37.031038, 56.154], [37.030638, 56.154252], [37.02992, 56.154703], [37.028777, 56.15542], [37.028663, 56.155492], [37.0267, 56.156736], [37.025959, 56.157223], [37.024046, 56.158428], [37.023693, 56.158645], [37.022234, 56.159558], [37.018851, 56.161675], [37.015153, 56.164025], [37.014992, 56.164127], [37.010691, 56.166847], [37.008443, 56.168269], [37.008152, 56.168454], [37.008098, 56.168488], [37.005361, 56.170216], [37.00422, 56.17096], [37.003596, 56.171361], [37.00198, 56.172361], [37.001169, 56.172866], [37.000617, 56.173212], [36.999756, 56.173764], [36.999304, 56.174031], [36.998972, 56.174227], [36.997056, 56.175452], [36.996846, 56.175586], [36.996773, 56.175632], [36.996465, 56.175826], [36.993249, 56.177857], [36.991359, 56.179046], [36.988834, 56.180636], [36.988497, 56.180846], [36.986206, 56.182296], [36.982887, 56.18439], [36.979987, 56.186184], [36.978318, 56.187234], [36.977223, 56.187917], [36.976474, 56.188385], [36.975463, 56.189037], [36.974939, 56.189366], [36.97368, 56.190154], [36.973033, 56.190555], [36.972567, 56.190841], [36.972327, 56.190988], [36.971486, 56.191511], [36.970799, 56.191939], [36.969775, 56.192571], [36.969498, 56.192746], [36.968672, 56.193251], [36.966831, 56.194387], [36.965704, 56.195092], [36.964325, 56.195945], [36.959927, 56.198657], [36.959034, 56.199213], [36.958765, 56.199376], [36.958343, 56.199639], [36.957655, 56.200064], [36.956445, 56.200801], [36.954824, 56.201806], [36.952852, 56.203036], [36.951008, 56.204172], [36.948829, 56.205524], [36.945114, 56.207853], [36.943756, 56.208693], [36.942897, 56.209211], [36.940538, 56.210665], [36.938857, 56.211704], [36.93704, 56.212833], [36.933722, 56.214891], [36.929175, 56.217709], [36.926925, 56.219114], [36.925401, 56.220049], [36.916623, 56.225469], [36.913484, 56.227415], [36.912138, 56.228254], [36.909327, 56.229999], [36.904076, 56.233234], [36.903815, 56.233399], [36.903178, 56.2338], [36.901701, 56.234719], [36.900158, 56.235678], [36.897581, 56.237242], [36.896519, 56.237892], [36.895732, 56.238379], [36.895495, 56.238524], [36.886852, 56.243872], [36.885886, 56.244469], [36.88468, 56.24521], [36.881442, 56.247216], [36.876292, 56.250391], [36.873856, 56.251931], [36.872093, 56.253019], [36.871526, 56.253338], [36.870696, 56.253848], [36.862177, 56.259122], [36.860747, 56.260005], [36.858697, 56.26127], [36.856993, 56.262313], [36.854774, 56.263672], [36.853914, 56.2642], [36.843768, 56.270459], [36.841675, 56.271758], [36.839621, 56.273028], [36.839376, 56.27318], [36.839109, 56.273339], [36.836156, 56.275108], [36.833179, 56.27694], [36.83107, 56.278262], [36.830687, 56.278506], [36.830437, 56.278658], [36.830166, 56.27882], [36.828426, 56.279862], [36.821756, 56.283996], [36.817366, 56.28669], [36.816469, 56.287285], [36.815008, 56.288145], [36.811687, 56.290195], [36.810822, 56.290728], [36.806741, 56.293242], [36.800084, 56.297333], [36.798291, 56.298425], [36.797464, 56.298963], [36.797142, 56.29916], [36.795724, 56.300026], [36.794854, 56.300543], [36.794238, 56.30088], [36.793532, 56.301298], [36.792926, 56.301674], [36.786223, 56.30586], [36.784608, 56.306854], [36.782918, 56.307892], [36.781011, 56.309065], [36.779342, 56.310092], [36.777468, 56.311229], [36.77009, 56.315785], [36.768567, 56.316719], [36.768147, 56.316967], [36.767911, 56.317115], [36.761691, 56.320975], [36.761122, 56.321348], [36.760851, 56.32152], [36.760122, 56.321967], [36.758058, 56.323222], [36.75772, 56.32341], [36.757139, 56.323734], [36.754829, 56.325171], [36.754175, 56.325607], [36.753407, 56.326068], [36.753269, 56.326143], [36.753017, 56.326274], [36.752577, 56.326465], [36.751602, 56.326756], [36.750453, 56.327048], [36.749857, 56.327168], [36.746147, 56.327801], [36.744362, 56.328104], [36.740414, 56.328772], [36.736951, 56.329402], [36.735688, 56.329621], [36.732549, 56.330106], [36.731859, 56.330255], [36.731239, 56.330471], [36.731039, 56.330559], [36.730703, 56.330744], [36.729966, 56.33116], [36.72921, 56.331665], [36.728584, 56.332128], [36.728024, 56.332524], [36.727892, 56.332582], [36.725891, 56.333516], [36.722072, 56.335309], [36.721636, 56.335521], [36.720899, 56.33587], [36.720592, 56.336003], [36.719791, 56.336344], [36.719407, 56.336536], [36.719203, 56.336663], [36.71857, 56.33712], [36.71778, 56.337729], [36.716856, 56.33845], [36.716024, 56.339096], [36.714627, 56.340215], [36.714235, 56.340551], [36.713892, 56.340817], [36.71352, 56.341061], [36.713125, 56.341384], [36.711714, 56.342786], [36.711254, 56.343263], [36.709961, 56.344536], [36.709539, 56.344957], [36.708954, 56.345542], [36.708473, 56.346024], [36.70796, 56.346533], [36.706798, 56.347679], [36.70558, 56.348912], [36.703895, 56.350599], [36.703731, 56.350762], [36.703111, 56.351367], [36.700894, 56.353543], [36.698833, 56.35556], [36.69561, 56.35873], [36.694719, 56.359605], [36.692954, 56.361336], [36.691577, 56.362686], [36.691251, 56.363006], [36.690144, 56.364109], [36.689099, 56.365175], [36.688094, 56.366167], [36.687189, 56.367058], [36.686259, 56.367978], [36.684453, 56.369755], [36.682995, 56.371191], [36.682528, 56.371654], [36.681605, 56.372558], [36.681189, 56.372977], [36.680595, 56.373561], [36.680007, 56.374139], [36.679766, 56.374378], [36.678354, 56.375782], [36.676294, 56.377828], [36.675815, 56.378301], [36.67511, 56.378997], [36.67394, 56.380144], [36.673066, 56.380983], [36.672342, 56.381696], [36.671872, 56.382151], [36.670553, 56.383444], [36.670318, 56.383683], [36.668389, 56.385593], [36.665985, 56.387949], [36.665606, 56.388322], [36.664714, 56.389196], [36.662412, 56.391477], [36.658704, 56.395124], [36.658676, 56.395152], [36.658522, 56.395306], [36.65539, 56.398359], [36.654131, 56.399603], [36.653421, 56.400307], [36.652491, 56.40122], [36.650997, 56.402667], [36.649936, 56.403711], [36.644368, 56.409198], [36.643246, 56.410295], [36.634828, 56.418572], [36.63336, 56.420049], [36.632345, 56.421026], [36.630866, 56.422456], [36.629595, 56.42373], [36.627355, 56.425923], [36.614894, 56.438126], [36.611905, 56.441095], [36.605064, 56.447822], [36.601489, 56.451281], [36.598882, 56.453873], [36.593494, 56.459134], [36.590908, 56.461695], [36.590857, 56.461746], [36.590593, 56.462007], [36.589287, 56.463275], [36.58774, 56.464778], [36.587019, 56.465493], [36.579487, 56.472886], [36.578648, 56.473709], [36.578507, 56.473847], [36.574484, 56.477759], [36.565623, 56.486459], [36.564148, 56.48791], [36.563498, 56.48861], [36.562679, 56.489407], [36.562607, 56.489481], [36.562092, 56.489979], [36.561227, 56.490816], [36.560956, 56.491079], [36.55998, 56.492009], [36.554549, 56.497293], [36.552873, 56.498936], [36.5528, 56.499008], [36.552716, 56.499092], [36.551791, 56.499992], [36.551602, 56.500169], [36.550717, 56.501027], [36.545978, 56.505654], [36.544575, 56.507029], [36.544145, 56.507443], [36.543514, 56.508069], [36.542172, 56.509385], [36.537246, 56.514215], [36.533035, 56.518321], [36.532788, 56.518557], [36.531584, 56.519762], [36.531314, 56.520108], [36.531132, 56.520439], [36.531051, 56.520737], [36.531035, 56.520928], [36.531095, 56.522413], [36.53107, 56.523051], [36.530837, 56.524069], [36.530649, 56.524719], [36.530446, 56.525138], [36.529909, 56.526054], [36.529777, 56.526328], [36.528449, 56.52853], [36.528353, 56.52874], [36.527828, 56.529575], [36.5263, 56.532136], [36.525654, 56.533232], [36.524881, 56.534545], [36.523043, 56.537655], [36.521063, 56.540965], [36.518828, 56.544318], [36.518102, 56.545399], [36.517482, 56.546324], [36.516376, 56.547988], [36.5147, 56.550492], [36.513421, 56.5524], [36.513033, 56.552976], [36.512039, 56.554461], [36.511233, 56.555681], [36.511138, 56.555826], [36.510949, 56.556113], [36.510778, 56.556374], [36.508663, 56.55948], [36.500302, 56.571992], [36.499604, 56.573061], [36.499168, 56.573693], [36.498758, 56.574304], [36.498603, 56.574536], [36.498501, 56.574688], [36.49792, 56.575578], [36.497711, 56.575918], [36.497573, 56.576115], [36.496563, 56.577626], [36.495955, 56.578537], [36.494085, 56.581327], [36.493345, 56.582433], [36.491308, 56.585486], [36.490659, 56.586482], [36.48952, 56.588139], [36.487151, 56.591629], [36.486524, 56.592855], [36.486234, 56.593491], [36.485932, 56.594197], [36.485278, 56.595685], [36.484842, 56.59652], [36.482659, 56.599748], [36.47973, 56.60395], [36.478844, 56.605343], [36.471258, 56.616344], [36.456771, 56.637263], [36.451858, 56.644363], [36.450756, 56.645956], [36.449921, 56.647147], [36.444576, 56.654886], [36.443848, 56.655901], [36.443244, 56.656813], [36.443109, 56.657019], [36.442122, 56.658494], [36.441751, 56.659157], [36.440823, 56.661098], [36.440616, 56.661488], [36.440396, 56.661829], [36.440202, 56.662046], [36.439971, 56.662252], [36.439561, 56.662536], [36.439082, 56.662785], [36.438729, 56.662929], [36.438165, 56.663122], [36.434446, 56.664301], [36.430437, 56.665617], [36.429511, 56.665932], [36.426681, 56.666944], [36.425458, 56.667376], [36.42455, 56.667693], [36.422283, 56.668549], [36.412552, 56.672031], [36.406376, 56.674244], [36.40387, 56.675157], [36.396286, 56.677896], [36.39306, 56.679022], [36.391034, 56.679727], [36.390774, 56.67982], [36.390437, 56.679937], [36.38898, 56.680457], [36.383065, 56.682597], [36.379592, 56.683832], [36.376056, 56.685091], [36.373989, 56.685807], [36.372587, 56.68632], [36.369937, 56.68726], [36.369411, 56.687445], [36.362695, 56.689857], [36.35762, 56.691654], [36.354943, 56.692866], [36.35377, 56.69352], [36.344781, 56.69862], [36.343912, 56.699078], [36.343233, 56.699406], [36.34253, 56.699719], [36.341806, 56.700017], [36.339058, 56.701119], [36.335816, 56.702417], [36.33419, 56.70306], [36.333866, 56.703186], [36.33051, 56.704517], [36.325526, 56.70646], [36.324208, 56.70702], [36.323103, 56.70756], [36.322223, 56.708038], [36.321391, 56.708541], [36.321162, 56.708686], [36.320934, 56.708832], [36.318304, 56.710506], [36.312533, 56.714213], [36.300479, 56.72194], [36.299102, 56.722744], [36.298137, 56.723254], [36.297389, 56.723622], [36.296621, 56.723979], [36.295568, 56.724433], [36.293928, 56.725072], [36.293659, 56.725173], [36.293005, 56.725399], [36.290723, 56.726097], [36.281868, 56.728727], [36.274087, 56.731042], [36.271542, 56.731798], [36.271014, 56.731954], [36.270508, 56.732104], [36.256503, 56.736263], [36.252311, 56.737501], [36.251708, 56.737679], [36.249713, 56.738264], [36.244037, 56.739945], [36.231331, 56.743701], [36.228391, 56.744578], [36.227433, 56.74486], [36.219362, 56.74726], [36.215147, 56.748485], [36.213084, 56.749114], [36.21291, 56.749165], [36.208854, 56.750366], [36.207015, 56.750907], [36.205549, 56.75135], [36.19792, 56.753615], [36.195091, 56.754454], [36.182241, 56.758219], [36.172202, 56.761197], [36.161081, 56.764481], [36.16069, 56.764595], [36.158483, 56.765235], [36.157587, 56.765496], [36.151036, 56.76741], [36.141524, 56.770226], [36.13467, 56.77226], [36.133532, 56.772598], [36.13204, 56.77304], [36.12677, 56.774592], [36.121232, 56.776222], [36.113769, 56.778434], [36.112689, 56.778749], [36.110192, 56.779475], [36.108541, 56.779946], [36.106867, 56.780446], [36.105912, 56.780731], [36.103436, 56.781448], [36.101406, 56.782058], [36.100564, 56.782288], [36.099965, 56.782478], [36.09854, 56.782893], [36.094654, 56.784037], [36.091822, 56.784866], [36.089214, 56.785637], [36.085785, 56.786652], [36.083377, 56.787331], [36.079588, 56.788465], [36.074812, 56.78987], [36.072382, 56.790585], [36.06791, 56.791899], [36.064283, 56.792975], [36.061927, 56.793669], [36.061608, 56.793758], [36.061146, 56.793896], [36.059515, 56.794386], [36.059128, 56.794502], [36.058156, 56.79476], [36.056339, 56.795303], [36.055493, 56.795555], [36.055411, 56.795579], [36.052414, 56.796464], [36.051452, 56.796752], [36.051095, 56.79686], [36.050825, 56.79694], [36.049367, 56.797387], [36.048185, 56.797727], [36.047485, 56.797928], [36.04725, 56.797995], [36.046906, 56.798094], [36.046081, 56.798331], [36.045506, 56.798496], [36.044604, 56.798756], [36.044129, 56.798892], [36.042965, 56.799227], [36.039883, 56.800138], [36.039628, 56.800213], [36.038545, 56.800529], [36.038439, 56.800557], [36.036552, 56.801098], [36.035771, 56.801321], [36.03498, 56.801547], [36.033509, 56.801963], [36.033209, 56.802045], [36.031755, 56.802448], [36.031316, 56.802575], [36.029455, 56.803109], [36.027927, 56.803548], [36.026084, 56.804079], [36.024575, 56.804503], [36.02368, 56.804754], [36.021176, 56.805456], [36.019743, 56.805857], [36.017441, 56.806502], [36.015962, 56.806916], [36.015441, 56.807063], [36.014867, 56.807223], [36.011255, 56.808235], [36.008964, 56.808877], [36.008739, 56.80894], [36.007347, 56.80933], [36.006583, 56.809542], [36.005483, 56.809851], [36.004319, 56.810179], [36.002107, 56.810805], [36.001027, 56.811113], [35.998652, 56.811789], [35.994915, 56.812853], [35.994575, 56.812954], [35.994155, 56.813098], [35.993798, 56.813241], [35.99192, 56.814147], [35.989432, 56.815347], [35.989056, 56.815528], [35.986757, 56.816638], [35.986081, 56.816965], [35.985771, 56.817112], [35.985155, 56.81741], [35.984955, 56.817508], [35.982501, 56.818692], [35.982309, 56.818785], [35.981462, 56.819194], [35.981053, 56.819391], [35.980881, 56.819474], [35.977021, 56.82134], [35.976584, 56.8216], [35.976264, 56.821843], [35.975946, 56.822159], [35.975446, 56.822831], [35.975126, 56.823266], [35.975042, 56.823377], [35.973656, 56.82529], [35.973036, 56.826143], [35.972597, 56.826759], [35.972066, 56.827481], [35.971765, 56.827887], [35.97088, 56.829079], [35.970444, 56.829513], [35.969977, 56.829885], [35.969602, 56.830158], [35.968999, 56.830598], [35.968252, 56.831143], [35.96815, 56.831217], [35.967395, 56.83178], [35.966837, 56.832196], [35.965798, 56.832932], [35.965634, 56.833044], [35.964938, 56.833519], [35.963878, 56.834276], [35.963366, 56.834654], [35.961961, 56.835652], [35.961807, 56.835763], [35.960945, 56.836391], [35.960006, 56.837077], [35.959739, 56.837312], [35.954498, 56.841091], [35.953504, 56.841812], [35.948796, 56.845228], [35.947035, 56.846506], [35.946328, 56.847019], [35.945119, 56.847896], [35.9448, 56.848127], [35.944632, 56.848248], [35.944531, 56.848318], [35.944332, 56.8484], [35.944193, 56.848454], [35.943961, 56.848537], [35.943591, 56.848679], [35.943399, 56.848753], [35.94317, 56.848842], [35.942356, 56.849156], [35.942242, 56.8492], [35.941477, 56.849497], [35.940969, 56.849692], [35.940766, 56.849772], [35.939291, 56.850346], [35.938297, 56.850734], [35.93708, 56.851208], [35.936482, 56.851441], [35.93571, 56.851742], [35.933937, 56.852433], [35.93363, 56.852553], [35.932837, 56.852862], [35.931309, 56.853456], [35.930139, 56.853911], [35.928885, 56.854398], [35.928514, 56.854542], [35.927467, 56.854946], [35.927383, 56.85499], [35.927079, 56.855199], [35.926926, 56.855357], [35.926893, 56.855466], [35.926907, 56.855549], [35.927589, 56.856967], [35.927585, 56.857077], [35.927524, 56.857181], [35.927411, 56.857271], [35.927196, 56.857357], [35.926096, 56.857518], [35.925343, 56.857626], [35.924521, 56.857748], [35.924213, 56.857793], [35.922965, 56.857976], [35.921798, 56.858148], [35.921398, 56.858205], [35.921074, 56.858253], [35.920109, 56.858394], [35.918, 56.858703], [35.917467, 56.858923], [35.916904, 56.859133], [35.916664, 56.859225], [35.915935, 56.859456], [35.915152, 56.859697], [35.913226, 56.860291], [35.912397, 56.860547], [35.911184, 56.860921], [35.909906, 56.861314], [35.909769, 56.861357], [35.909821, 56.861495], [35.911216, 56.864378], [35.911379, 56.864587], [35.911557, 56.864982], [35.911643, 56.865186], [35.911461, 56.865289], [35.91128, 56.865341], [35.911013, 56.865376], [35.910703, 56.865412], [35.904123, 56.86615], [35.902773, 56.866322], [35.900266, 56.866638], [35.899929, 56.866676], [35.899731, 56.866698], [35.899588, 56.866716], [35.899404, 56.866737], [35.898076, 56.866889], [35.896875, 56.867027], [35.896035, 56.867123], [35.894488, 56.867311], [35.89296, 56.867499], [35.892509, 56.867559], [35.889758, 56.867956], [35.888449, 56.86815], [35.886672, 56.868414], [35.885474, 56.868596], [35.884984, 56.86867], [35.882662, 56.869023], [35.881179, 56.869248], [35.879433, 56.869514], [35.879353, 56.869526], [35.879236, 56.869543], [35.878761, 56.869614], [35.87817, 56.869701], [35.87576, 56.870054], [35.872569, 56.870524], [35.872544, 56.870527], [35.870118, 56.870881], [35.868724, 56.871084], [35.865708, 56.871548], [35.864334, 56.87176], [35.862001, 56.872131], [35.86176, 56.872171], [35.860363, 56.872402], [35.856281, 56.873036], [35.855119, 56.873217], [35.853663, 56.873443], [35.852376, 56.873643], [35.851042, 56.873851], [35.850797, 56.873889], [35.850229, 56.873977], [35.847633, 56.874387], [35.845804, 56.874679], [35.844657, 56.874862], [35.841622, 56.875329], [35.840006, 56.875578], [35.838136, 56.875866], [35.837384, 56.875982], [35.836236, 56.876167], [35.8359, 56.876195], [35.835661, 56.87623], [35.834896, 56.876345], [35.834732, 56.876368], [35.832024, 56.876799], [35.831453, 56.876892], [35.828437, 56.87736], [35.828085, 56.877414], [35.827155, 56.877559], [35.826347, 56.877684], [35.82379, 56.878081], [35.822839, 56.878229], [35.822682, 56.878253], [35.822114, 56.878342], [35.821917, 56.878373], [35.821643, 56.878415], [35.813394, 56.879695], [35.812036, 56.879906], [35.811612, 56.879971], [35.809772, 56.880257], [35.808132, 56.880511], [35.807778, 56.880566], [35.805851, 56.880866], [35.803095, 56.881293], [35.800338, 56.881721], [35.798909, 56.881943], [35.797163, 56.882214], [35.796992, 56.88227], [35.796545, 56.882343], [35.793159, 56.882895], [35.788972, 56.883533], [35.785675, 56.884065], [35.784214, 56.884301], [35.781629, 56.884774], [35.779991, 56.885054], [35.776779, 56.88554], [35.771479, 56.886347], [35.770755, 56.886402], [35.767164, 56.886957], [35.764664, 56.887337], [35.762676, 56.887622], [35.761534, 56.887802], [35.755751, 56.888706], [35.754521, 56.888899], [35.753337, 56.889079], [35.752941, 56.889138], [35.752757, 56.889169], [35.748667, 56.889789], [35.745915, 56.890221], [35.739245, 56.891262], [35.738251, 56.891422], [35.737301, 56.891568], [35.737112, 56.891596], [35.735855, 56.891803], [35.719363, 56.894357], [35.719037, 56.894409], [35.717433, 56.894676], [35.715878, 56.89499], [35.714576, 56.895227], [35.713531, 56.895391], [35.712375, 56.895539], [35.709945, 56.895817], [35.709092, 56.895938], [35.704192, 56.896703], [35.702743, 56.896955], [35.701642, 56.897171], [35.700584, 56.897379], [35.69947, 56.897564], [35.698085, 56.897769], [35.695397, 56.898086], [35.694395, 56.898219], [35.693083, 56.898415], [35.683227, 56.899992], [35.678161, 56.900754], [35.670351, 56.901929], [35.668354, 56.902241], [35.665343, 56.902803], [35.663796, 56.903068], [35.660643, 56.9035], [35.658635, 56.903738], [35.657863, 56.903847], [35.656887, 56.903998], [35.652944, 56.904603], [35.646919, 56.905555], [35.644989, 56.905934], [35.643679, 56.906164], [35.642192, 56.906392], [35.640937, 56.906583], [35.638827, 56.90683], [35.636822, 56.907104], [35.636211, 56.907201], [35.635264, 56.907348], [35.631506, 56.907922], [35.620716, 56.909561], [35.616069, 56.910294], [35.613919, 56.910633], [35.612162, 56.910915], [35.610203, 56.911276], [35.607557, 56.911702], [35.606552, 56.911851], [35.602503, 56.912364], [35.599936, 56.912763], [35.599605, 56.912813], [35.599028, 56.912898], [35.596807, 56.913236], [35.587165, 56.914713], [35.577987, 56.916098], [35.576867, 56.916269], [35.576046, 56.916394], [35.574838, 56.916579], [35.573954, 56.916717], [35.556072, 56.919436], [35.552938, 56.919927], [35.550646, 56.920307], [35.548713, 56.920705], [35.546358, 56.921236], [35.544902, 56.921555], [35.542282, 56.922182], [35.54064, 56.92263], [35.537803, 56.923473], [35.536792, 56.923803], [35.534194, 56.924746], [35.531743, 56.9257], [35.529583, 56.926643], [35.526961, 56.927867], [35.525376, 56.928696], [35.523158, 56.92992], [35.521248, 56.93112], [35.520092, 56.931868], [35.517294, 56.933897], [35.515376, 56.935405], [35.514885, 56.935793], [35.512918, 56.937349], [35.511118, 56.938773], [35.508389, 56.940687], [35.507548, 56.9413], [35.506214, 56.942179], [35.504855, 56.942993], [35.503838, 56.943726], [35.503599, 56.94394], [35.503409, 56.944169], [35.50327, 56.944408], [35.502658, 56.946216], [35.502625, 56.946411], [35.502665, 56.946704], [35.502752, 56.946895], [35.502967, 56.947164], [35.503164, 56.947328], [35.503399, 56.947477], [35.503815, 56.947664], [35.504127, 56.947761], [35.504801, 56.947897], [35.507532, 56.948341], [35.512128, 56.949041], [35.51253, 56.949122], [35.512865, 56.949208], [35.513453, 56.949452], [35.513924, 56.949727], [35.514177, 56.949936], [35.514455, 56.95028], [35.5146, 56.950648], [35.514607, 56.951024], [35.514475, 56.951393], [35.514313, 56.951628], [35.514095, 56.951848], [35.51367, 56.952145], [35.511132, 56.953442], [35.506864, 56.955646], [35.502586, 56.957732], [35.499873, 56.959143], [35.499471, 56.959326], [35.499048, 56.959494], [35.49864, 56.959636], [35.497935, 56.959841], [35.497196, 56.960006], [35.496431, 56.960132], [35.495647, 56.960216], [35.494851, 56.960257], [35.494052, 56.960255], [35.493257, 56.960211], [35.492474, 56.960124], [35.491711, 56.959995], [35.489368, 56.959465], [35.489, 56.959384], [35.48824, 56.959258], [35.487458, 56.959182], [35.486666, 56.959156], [35.486269, 56.959162], [35.48548, 56.959211], [35.484707, 56.959311], [35.48433, 56.959379], [35.483601, 56.959551], [35.482799, 56.95981], [35.482146, 56.960088], [35.479823, 56.961175], [35.47414, 56.964088], [35.473973, 56.964173], [35.471165, 56.96559], [35.469296, 56.966492], [35.467257, 56.967419], [35.464363, 56.968627], [35.460434, 56.9701], [35.456377, 56.971435], [35.447795, 56.97402], [35.43111, 56.979204], [35.426444, 56.980654], [35.41865, 56.983024], [35.412407, 56.984943], [35.383607, 56.994502], [35.383407, 56.994568], [35.376451, 56.99686], [35.35812, 57.003046], [35.345537, 57.007079], [35.341841, 57.008225], [35.340657, 57.008607], [35.323036, 57.014039], [35.298032, 57.021788], [35.29781, 57.021856], [35.291457, 57.023812], [35.265405, 57.032077], [35.259032, 57.034123], [35.258815, 57.034192], [35.237621, 57.040947], [35.237383, 57.041024], [35.221616, 57.046051], [35.219464, 57.046718], [35.216927, 57.047407], [35.209433, 57.049269], [35.208308, 57.049556], [35.195476, 57.052685], [35.195243, 57.052741], [35.186746, 57.05486], [35.171139, 57.058662], [35.168604, 57.059304], [35.166137, 57.06003], [35.164061, 57.060729], [35.163161, 57.061057], [35.162684, 57.061246], [35.161876, 57.061567], [35.161057, 57.061891], [35.140768, 57.070314], [35.133771, 57.073204], [35.132736, 57.073635], [35.115245, 57.080876], [35.115005, 57.080976], [35.110792, 57.082715], [35.108818, 57.083575], [35.106768, 57.084573], [35.104575, 57.085808], [35.09857, 57.089409], [35.098166, 57.089651], [35.078814, 57.101231], [35.075892, 57.103001], [35.075683, 57.103127], [35.068733, 57.107279], [35.065508, 57.10922], [35.052954, 57.116667], [35.052761, 57.116784], [35.031556, 57.128827], [35.031369, 57.128931], [35.027962, 57.130847], [35.02734, 57.131201], [35.01175, 57.140041], [35.011546, 57.140164], [35.010768, 57.140633], [35.009372, 57.141534], [35.007908, 57.142593], [35.006502, 57.143699], [35.005231, 57.144812], [35.004083, 57.145964], [35.003021, 57.147177], [35.002055, 57.148379], [35.000956, 57.149996], [34.994569, 57.160727], [34.987832, 57.171934], [34.987734, 57.172098], [34.97688, 57.188849], [34.966444, 57.205009], [34.965085, 57.2067], [34.964924, 57.206882], [34.96319, 57.208625], [34.96125, 57.210316], [34.95981, 57.211391], [34.958292, 57.212425], [34.956651, 57.213451], [34.954961, 57.2144], [34.953566, 57.215109], [34.952096, 57.215812], [34.94891, 57.217142], [34.937948, 57.221422], [34.92449, 57.226685], [34.922782, 57.227313], [34.916798, 57.22972], [34.915848, 57.23011], [34.912711, 57.231592], [34.910701, 57.232542], [34.909149, 57.233263], [34.907544, 57.234109], [34.905895, 57.235048], [34.904015, 57.236119], [34.900947, 57.238004], [34.898131, 57.239929], [34.897566, 57.240355], [34.895227, 57.242118], [34.893391, 57.243671], [34.89179, 57.24507], [34.890171, 57.246619], [34.887181, 57.249778], [34.887066, 57.249903], [34.879221, 57.258646], [34.877729, 57.2601], [34.876088, 57.261559], [34.873207, 57.263773], [34.871694, 57.264808], [34.86984, 57.265995], [34.869661, 57.266101], [34.867017, 57.267602], [34.864817, 57.268744], [34.861851, 57.270127], [34.857291, 57.271922], [34.853826, 57.273092], [34.851143, 57.273904], [34.846852, 57.275018], [34.845532, 57.275331], [34.840688, 57.276294], [34.839428, 57.2765], [34.834801, 57.27718], [34.834549, 57.277217], [34.813222, 57.280378], [34.811067, 57.280694], [34.809242, 57.280945], [34.807279, 57.281243], [34.805369, 57.281618], [34.803513, 57.282], [34.801673, 57.282418], [34.799939, 57.282874], [34.797188, 57.283694], [34.79454, 57.284593], [34.791477, 57.285832], [34.790349, 57.28634], [34.789953, 57.286511], [34.788045, 57.287423], [34.786459, 57.288298], [34.784994, 57.289152], [34.781544, 57.291497], [34.779298, 57.293485], [34.777282, 57.295529], [34.755401, 57.317375], [34.753549, 57.31926], [34.750518, 57.322142], [34.747193, 57.325096], [34.74568, 57.326396], [34.745484, 57.326554], [34.743678, 57.327972], [34.741741, 57.329449], [34.737834, 57.332284], [34.735476, 57.333859], [34.733655, 57.335045], [34.729871, 57.337361], [34.728824, 57.337978], [34.728163, 57.33834], [34.726782, 57.339191], [34.725333, 57.339984], [34.723468, 57.340982], [34.723287, 57.341078], [34.717763, 57.343864], [34.70198, 57.351728], [34.696745, 57.354318], [34.693971, 57.355614], [34.69124, 57.35684], [34.689106, 57.357735], [34.687073, 57.358551], [34.682764, 57.360213], [34.679391, 57.361413], [34.676324, 57.362428], [34.672962, 57.363496], [34.669548, 57.364497], [34.662132, 57.366406], [34.660251, 57.366854], [34.654986, 57.368001], [34.650863, 57.368784], [34.646645, 57.369527], [34.645915, 57.369646], [34.642189, 57.370184], [34.638132, 57.37071], [34.633391, 57.371263], [34.628368, 57.371788], [34.62812, 57.371815], [34.625672, 57.372025], [34.62134, 57.372466], [34.601851, 57.374405], [34.60012, 57.37459], [34.595679, 57.375012], [34.595432, 57.375035], [34.59412, 57.37516], [34.59076, 57.375619], [34.587663, 57.376074], [34.583369, 57.376852], [34.577812, 57.378184], [34.575723, 57.378754], [34.57383, 57.379309], [34.571791, 57.37996], [34.569919, 57.380585], [34.567301, 57.381553], [34.564687, 57.382579], [34.562216, 57.383623], [34.559725, 57.384812], [34.556289, 57.386625], [34.554073, 57.387923], [34.551892, 57.389345], [34.546947, 57.392848], [34.537392, 57.399756], [34.537228, 57.399871], [34.535622, 57.401026], [34.531381, 57.403873], [34.528765, 57.405552], [34.526131, 57.407163], [34.519085, 57.411146], [34.517264, 57.412112], [34.517084, 57.412203], [34.513963, 57.413824], [34.510614, 57.415485], [34.508823, 57.41634], [34.507285, 57.417059], [34.505139, 57.418028], [34.503619, 57.418711], [34.5006, 57.420011], [34.491719, 57.423522], [34.461507, 57.434291], [34.461301, 57.434367], [34.444677, 57.440238], [34.444475, 57.44031], [34.428452, 57.445976], [34.427703, 57.446231], [34.418718, 57.449224], [34.411293, 57.451653], [34.403859, 57.454114], [34.403651, 57.454182], [34.376744, 57.463045], [34.367221, 57.466212], [34.366978, 57.466293], [34.354981, 57.470229], [34.349232, 57.472152], [34.345373, 57.473516], [34.34157, 57.474925], [34.336631, 57.476922], [34.33171, 57.479047], [34.330584, 57.479562], [34.330413, 57.479649], [34.327952, 57.480819], [34.325515, 57.482014], [34.324951, 57.482293], [34.322728, 57.48341], [34.317792, 57.486116], [34.313484, 57.488637], [34.30952, 57.491161], [34.305693, 57.493799], [34.304087, 57.49497], [34.303538, 57.495368], [34.298465, 57.499365], [34.293473, 57.50382], [34.289207, 57.508161], [34.286341, 57.511484], [34.284882, 57.513315], [34.284763, 57.513466], [34.280821, 57.519117], [34.28029, 57.519958], [34.279733, 57.520875], [34.277719, 57.524575], [34.276412, 57.527571], [34.275377, 57.530124], [34.27451, 57.532381], [34.273558, 57.535568], [34.273439, 57.535988], [34.270372, 57.54702], [34.269576, 57.549532], [34.266933, 57.556987], [34.266638, 57.557747], [34.266253, 57.558643], [34.261233, 57.570428], [34.256571, 57.581205], [34.256348, 57.581765], [34.255194, 57.584762], [34.25409, 57.587877], [34.25322, 57.59086], [34.252367, 57.593983], [34.250672, 57.600461], [34.250572, 57.600888], [34.25029, 57.601984], [34.249245, 57.605455], [34.249199, 57.605612], [34.248294, 57.608427], [34.246202, 57.614009], [34.2437, 57.619852], [34.23862, 57.631255], [34.238364, 57.631831], [34.238222, 57.632142], [34.238102, 57.63242], [34.237239, 57.634688], [34.236516, 57.636917], [34.23607, 57.638536], [34.235677, 57.64046], [34.234513, 57.647988], [34.23359, 57.654646], [34.23332, 57.656422], [34.232277, 57.66364], [34.231999, 57.665068], [34.231512, 57.666769], [34.231058, 57.668197], [34.230244, 57.670172], [34.229768, 57.671199], [34.228313, 57.673813], [34.227256, 57.675368], [34.226056, 57.677013], [34.224737, 57.67861], [34.222414, 57.681224], [34.220549, 57.683197], [34.220436, 57.683323], [34.208015, 57.696844], [34.207196, 57.697849], [34.206013, 57.699059], [34.205445, 57.699723], [34.203806, 57.701583], [34.198853, 57.706931], [34.198042, 57.707807], [34.193575, 57.712464], [34.19317, 57.712853], [34.189896, 57.715951], [34.186151, 57.719283], [34.182227, 57.722513], [34.182081, 57.722629], [34.178564, 57.725348], [34.176702, 57.72674], [34.174745, 57.728158], [34.170015, 57.731379], [34.165162, 57.734506], [34.160232, 57.737489], [34.160052, 57.737594], [34.156422, 57.739641], [34.153072, 57.74148], [34.148926, 57.74366], [34.145685, 57.74525], [34.142332, 57.746851], [34.139409, 57.748219], [34.136359, 57.749583], [34.131786, 57.75154], [34.12744, 57.753317], [34.123123, 57.755014], [34.12148, 57.755617], [34.121282, 57.755688], [34.117382, 57.757098], [34.113366, 57.758485], [34.108778, 57.760003], [34.103604, 57.761664], [34.103385, 57.761735], [34.097132, 57.7637], [34.093918, 57.764733], [34.090943, 57.765727], [34.087958, 57.766773], [34.084914, 57.767925], [34.080259, 57.769779], [34.080058, 57.76986], [34.075275, 57.771936], [34.07239, 57.773292], [34.071972, 57.773497], [34.068594, 57.775164], [34.065518, 57.776803], [34.062384, 57.778539], [34.060089, 57.779918], [34.059252, 57.78043], [34.054946, 57.78317], [34.054387, 57.783551], [34.052939, 57.78454], [34.050928, 57.785995], [34.049093, 57.787362], [34.047484, 57.788635], [34.045773, 57.790039], [34.044189, 57.791416], [34.041071, 57.79431], [34.040663, 57.794714], [34.039054, 57.796275], [34.037334, 57.79815], [34.035636, 57.800086], [34.034266, 57.80176], [34.033011, 57.803415], [34.031755, 57.805124], [34.03059, 57.806921], [34.030511, 57.807051], [34.029105, 57.809317], [34.027842, 57.811624], [34.023332, 57.820699], [34.019832, 57.827665], [34.016439, 57.834337], [34.015566, 57.836037], [34.011177, 57.844728], [34.006533, 57.853398], [34.006458, 57.853531], [34.001023, 57.863498], [33.989521, 57.884702], [33.987869, 57.887457], [33.986873, 57.88897], [33.985755, 57.890591], [33.984502, 57.892301], [33.982928, 57.894308], [33.982768, 57.894506], [33.980675, 57.896934], [33.979229, 57.898533], [33.97794, 57.899916], [33.976411, 57.90145], [33.976142, 57.901707], [33.974512, 57.903254], [33.972967, 57.904651], [33.971111, 57.906284], [33.969458, 57.907646], [33.968333, 57.908574], [33.966744, 57.909804], [33.965199, 57.910965], [33.961876, 57.91336], [33.959448, 57.91501], [33.956902, 57.916659], [33.954014, 57.918409], [33.950975, 57.920187], [33.945322, 57.923241], [33.942685, 57.924566], [33.939857, 57.92592], [33.939672, 57.92601], [33.932036, 57.929367], [33.928233, 57.930927], [33.924167, 57.932459], [33.919859, 57.933994], [33.915198, 57.93556], [33.911812, 57.936608], [33.908346, 57.937631], [33.902274, 57.939294], [33.898074, 57.940346], [33.897843, 57.940402], [33.895784, 57.940919], [33.88815, 57.942765], [33.884411, 57.943684], [33.880603, 57.944675], [33.874996, 57.946269], [33.869496, 57.948013], [33.868518, 57.948336], [33.867107, 57.948827], [33.864064, 57.949905], [33.858821, 57.951888], [33.85507, 57.953401], [33.851347, 57.955028], [33.848373, 57.956423], [33.845286, 57.957917], [33.841773, 57.959745], [33.840177, 57.960619], [33.837431, 57.962091], [33.836581, 57.962607], [33.833464, 57.964514], [33.830582, 57.966402], [33.826271, 57.969368], [33.810248, 57.980186], [33.786984, 57.995842], [33.781961, 57.999096], [33.775754, 58.003045], [33.77549, 58.003212], [33.765462, 58.00942], [33.753256, 58.01724], [33.740833, 58.02506], [33.727539, 58.033457], [33.721853, 58.037217], [33.719142, 58.039112], [33.71899, 58.039216], [33.717484, 58.040284], [33.713903, 58.042889], [33.711049, 58.045034], [33.708228, 58.047224], [33.705411, 58.049463], [33.702643, 58.051754], [33.697292, 58.05642], [33.692649, 58.060741], [33.689066, 58.064291], [33.685539, 58.067917], [33.682762, 58.071011], [33.679933, 58.074267], [33.679835, 58.074386], [33.677211, 58.077597], [33.672802, 58.083069], [33.67249, 58.083456], [33.664689, 58.093039], [33.664155, 58.093702], [33.659777, 58.099139], [33.657005, 58.102308], [33.655303, 58.104078], [33.655165, 58.104213], [33.654293, 58.105049], [33.652114, 58.10703], [33.651654, 58.107421], [33.648914, 58.109674], [33.647946, 58.110452], [33.646204, 58.111726], [33.64497, 58.11261], [33.643611, 58.113536], [33.643455, 58.113648], [33.641351, 58.11501], [33.638157, 58.116939], [33.616694, 58.129577], [33.614715, 58.130673], [33.610288, 58.13304], [33.606668, 58.134851], [33.602556, 58.136789], [33.598949, 58.138356], [33.59459, 58.140178], [33.593538, 58.140603], [33.588075, 58.142668], [33.575707, 58.147275], [33.570038, 58.149351], [33.551764, 58.156153], [33.550907, 58.156454], [33.523389, 58.1664], [33.520119, 58.167704], [33.518541, 58.168368], [33.516941, 58.169109], [33.513821, 58.170703], [33.510854, 58.172385], [33.509309, 58.173382], [33.507743, 58.17445], [33.506289, 58.175529], [33.504937, 58.176603], [33.503607, 58.177755], [33.502112, 58.179166], [33.500656, 58.180705], [33.499259, 58.18238], [33.497575, 58.184536], [33.495426, 58.18689], [33.49423, 58.188055], [33.492969, 58.189161], [33.491279, 58.190572], [33.489306, 58.192056], [33.488018, 58.192947], [33.486639, 58.193837], [33.483734, 58.195524], [33.476559, 58.199279], [33.475397, 58.199913], [33.470925, 58.202246], [33.468347, 58.203613], [33.466485, 58.204685], [33.464731, 58.205786], [33.462968, 58.207029], [33.462101, 58.207679], [33.460331, 58.209231], [33.458712, 58.210848], [33.457276, 58.212519], [33.454384, 58.216001], [33.452266, 58.21848], [33.444896, 58.227126], [33.44036, 58.232495], [33.437957, 58.235377], [33.435638, 58.238241], [33.433615, 58.241046], [33.431772, 58.244052], [33.430394, 58.246707], [33.429701, 58.248131], [33.428422, 58.251245], [33.427861, 58.252961], [33.427764, 58.25328], [33.427035, 58.255968], [33.420729, 58.278547], [33.419841, 58.280957], [33.418761, 58.283455], [33.417555, 58.285832], [33.416827, 58.287143], [33.415057, 58.289999], [33.413761, 58.291848], [33.412503, 58.293501], [33.41111, 58.29525], [33.409107, 58.29751], [33.407992, 58.298719], [33.406787, 58.29993], [33.406647, 58.300072], [33.403104, 58.303382], [33.399716, 58.306153], [33.395986, 58.308914], [33.391967, 58.31167], [33.381996, 58.317931], [33.365641, 58.32829], [33.36529, 58.328511], [33.362603, 58.330134], [33.357233, 58.332939], [33.35457, 58.334061], [33.353246, 58.334614], [33.349067, 58.336188], [33.346918, 58.336848], [33.344576, 58.337534], [33.34187, 58.338275], [33.338898, 58.338983], [33.336118, 58.339579], [33.333465, 58.34009], [33.330696, 58.340559], [33.32802, 58.340981], [33.293231, 58.346147], [33.289834, 58.346644], [33.28355, 58.347564], [33.280917, 58.34795], [33.27969, 58.34813], [33.275916, 58.348631], [33.271423, 58.349012], [33.265932, 58.34932], [33.263243, 58.349413], [33.260489, 58.349466], [33.25538, 58.349443], [33.252944, 58.349368], [33.25024, 58.349252], [33.245198, 58.348887], [33.243899, 58.348774], [33.24021, 58.348357], [33.235912, 58.347774], [33.231685, 58.347105], [33.229694, 58.34673], [33.227624, 58.346309], [33.22566, 58.345891], [33.223557, 58.345406], [33.221385, 58.344864], [33.219476, 58.344344], [33.214172, 58.342748], [33.206033, 58.340141], [33.200598, 58.338498], [33.200309, 58.338429], [33.197274, 58.337686], [33.195048, 58.337224], [33.193074, 58.336881], [33.190341, 58.336462], [33.187581, 58.336133], [33.185277, 58.33591], [33.182494, 58.335723], [33.179864, 58.335597], [33.177069, 58.335579], [33.173813, 58.335659], [33.15191, 58.336809], [33.131558, 58.337949], [33.128046, 58.338055], [33.125085, 58.338081], [33.114775, 58.337954], [33.11371, 58.337948], [33.10826, 58.337842], [33.10464, 58.337813], [33.098182, 58.337712], [33.09472, 58.33771], [33.089941, 58.337953], [33.085224, 58.338433], [33.082902, 58.33876], [33.080728, 58.339131], [33.078466, 58.339571], [33.076269, 58.340031], [33.072419, 58.341056], [33.070763, 58.341561], [33.068789, 58.342213], [33.066884, 58.342915], [33.06503, 58.343668], [33.063387, 58.344379], [33.061469, 58.345313], [33.05859, 58.346906], [33.055896, 58.34871], [33.054348, 58.349891], [33.05289, 58.351065], [33.050013, 58.353483], [33.047503, 58.355526], [33.044754, 58.357568], [33.042633, 58.358951], [33.042107, 58.359255], [33.039112, 58.360848], [33.034895, 58.362745], [33.030359, 58.364396], [33.021866, 58.366874], [33.017853, 58.36808], [33.01611, 58.368653], [33.014145, 58.369383], [33.011823, 58.370323], [33.009637, 58.371289], [33.007367, 58.372473], [33.005276, 58.373663], [33.000092, 58.376912], [32.994966, 58.38018], [32.987353, 58.384894], [32.982934, 58.387741], [32.981338, 58.388689], [32.977308, 58.39129], [32.972411, 58.39433], [32.964017, 58.399637], [32.963842, 58.399748], [32.95991, 58.402226], [32.955219, 58.405048], [32.950299, 58.407738], [32.945214, 58.410385], [32.940234, 58.413068], [32.931149, 58.417879], [32.921657, 58.422505], [32.913175, 58.426411], [32.912106, 58.426865], [32.911854, 58.426974], [32.904402, 58.43015], [32.892753, 58.435623], [32.890356, 58.436546], [32.888698, 58.437185], [32.884301, 58.439114], [32.878708, 58.441335], [32.878472, 58.441425], [32.870137, 58.444557], [32.867092, 58.44588], [32.856598, 58.450859], [32.856281, 58.451014], [32.854376, 58.451943], [32.834929, 58.461078], [32.826079, 58.464192], [32.823888, 58.464864], [32.82325, 58.46504], [32.820035, 58.465835], [32.819701, 58.46592], [32.817302, 58.466377], [32.808531, 58.467908], [32.806661, 58.468255], [32.805498, 58.46847], [32.799236, 58.469799], [32.793338, 58.471378], [32.792749, 58.47156], [32.791206, 58.472094], [32.790037, 58.472522], [32.784216, 58.474633], [32.773598, 58.478783], [32.77124, 58.479753], [32.767689, 58.481346], [32.766851, 58.481748], [32.766649, 58.481845], [32.76434, 58.482953], [32.755337, 58.488131], [32.753478, 58.489265], [32.752431, 58.489902], [32.751963, 58.490188], [32.747586, 58.492856], [32.745813, 58.493918], [32.739148, 58.497824], [32.735507, 58.500882], [32.734943, 58.50139], [32.731748, 58.504306], [32.729591, 58.505959], [32.727917, 58.507069], [32.725589, 58.508453], [32.721512, 58.510477], [32.718894, 58.511575], [32.716548, 58.512411], [32.714083, 58.513236], [32.710075, 58.514343], [32.705378, 58.515494], [32.690341, 58.518379], [32.659117, 58.524742], [32.656472, 58.525281], [32.648499, 58.526906], [32.645955, 58.527486], [32.616906, 58.534398], [32.600008, 58.53806], [32.599407, 58.538186], [32.590475, 58.540048], [32.587648, 58.540641], [32.582078, 58.54195], [32.566074, 58.546601], [32.562194, 58.547545], [32.557431, 58.548685], [32.553354, 58.549881], [32.551097, 58.550692], [32.548448, 58.551623], [32.543872, 58.553247], [32.526407, 58.559276], [32.515481, 58.56296], [32.508382, 58.565167], [32.505584, 58.566003], [32.502655, 58.56674], [32.499556, 58.567558], [32.495017, 58.568785], [32.493178, 58.569302], [32.489793, 58.570131], [32.480961, 58.57216], [32.478371, 58.572724], [32.474279, 58.573544], [32.471988, 58.574032], [32.462969, 58.57567], [32.45239, 58.577386], [32.452117, 58.577423], [32.448297, 58.57797], [32.379838, 58.587163], [32.379438, 58.587216], [32.357792, 58.59015], [32.34405, 58.592587], [32.33418, 58.594813], [32.331098, 58.595598], [32.330664, 58.595708], [32.321562, 58.598152], [32.318908, 58.598972], [32.313087, 58.600878], [32.307433, 58.602825], [32.293394, 58.608292], [32.289225, 58.609875], [32.285368, 58.611219], [32.282998, 58.611983], [32.279854, 58.612937], [32.278405, 58.613385], [32.273219, 58.614782], [32.268008, 58.6161], [32.263252, 58.61714], [32.258899, 58.617982], [32.25559, 58.618595], [32.255184, 58.618664], [32.249504, 58.619566], [32.247304, 58.619833], [32.241027, 58.620694], [32.232002, 58.621818], [32.221924, 58.623151], [32.211768, 58.624591], [32.203727, 58.62598], [32.194395, 58.627812], [32.193899, 58.627905], [32.191445, 58.628382], [32.187282, 58.629178], [32.178322, 58.630915], [32.169204, 58.632583], [32.157347, 58.634484], [32.142917, 58.636493], [32.142662, 58.636528], [32.131405, 58.638074], [32.11412, 58.640473], [32.106863, 58.641555], [32.102802, 58.642337], [32.098847, 58.643214], [32.085239, 58.646383], [32.080312, 58.647431], [32.076983, 58.648043], [32.073586, 58.648611], [32.070932, 58.648994], [32.068244, 58.649312], [32.062832, 58.649891], [32.062377, 58.649944], [32.057787, 58.650426], [32.054076, 58.650833], [32.053788, 58.650863], [32.044206, 58.651871], [32.034152, 58.653178], [32.015151, 58.656435], [32.014884, 58.65648], [31.9934, 58.660228], [31.992588, 58.660362], [31.970245, 58.664253], [31.969484, 58.664388], [31.959207, 58.666127], [31.952864, 58.667101], [31.945024, 58.668085], [31.9379, 58.668823], [31.910642, 58.671539], [31.910332, 58.67157], [31.854809, 58.677106], [31.841691, 58.678594], [31.836558, 58.679222], [31.835345, 58.679386], [31.834386, 58.679507], [31.786755, 58.685329], [31.780618, 58.68602], [31.773975, 58.686814], [31.772096, 58.687022], [31.770515, 58.68721], [31.767855, 58.687569], [31.757117, 58.688909], [31.755129, 58.68912], [31.753056, 58.689312], [31.744921, 58.689885], [31.737453, 58.69025], [31.73715, 58.690266], [31.72758, 58.690744], [31.723704, 58.691026], [31.719838, 58.691363], [31.679932, 58.695941], [31.679618, 58.695977], [31.666877, 58.697424], [31.646105, 58.699823], [31.640335, 58.700606], [31.63532, 58.701379], [31.63223, 58.701885], [31.629049, 58.702462], [31.622916, 58.703632], [31.616394, 58.705065], [31.610091, 58.706616], [31.605367, 58.707854], [31.605114, 58.70792], [31.600132, 58.709365], [31.595329, 58.710865], [31.59053, 58.71249], [31.585757, 58.714202], [31.585513, 58.714289], [31.581774, 58.71573], [31.57867, 58.716974], [31.574618, 58.718741], [31.571304, 58.720227], [31.565309, 58.723069], [31.564236, 58.723591], [31.563992, 58.723702], [31.562909, 58.724206], [31.541638, 58.734264], [31.530941, 58.739239], [31.521712, 58.743723], [31.519106, 58.745187], [31.510997, 58.750018], [31.504944, 58.754133], [31.500842, 58.757216], [31.499539, 58.758195], [31.498659, 58.758967], [31.495088, 58.762099], [31.492032, 58.764906], [31.491892, 58.765047], [31.488824, 58.768269], [31.484238, 58.773623], [31.484133, 58.773749], [31.476774, 58.782689], [31.469313, 58.791629], [31.469114, 58.791869], [31.468379, 58.792705], [31.467358, 58.793905], [31.46595, 58.795577], [31.465584, 58.795995], [31.464096, 58.797866], [31.463762, 58.798278], [31.463077, 58.799123], [31.462127, 58.800244], [31.461841, 58.80058], [31.460713, 58.801983], [31.457644, 58.805623], [31.456684, 58.806815], [31.45158, 58.812964], [31.449287, 58.815797], [31.440013, 58.826389], [31.439851, 58.826572], [31.433041, 58.834285], [31.430924, 58.836717], [31.419575, 58.849437], [31.419174, 58.849896], [31.415083, 58.854574], [31.412154, 58.857789], [31.403666, 58.867252], [31.395709, 58.876453], [31.391261, 58.881729], [31.390586, 58.882529], [31.39027, 58.882939], [31.389365, 58.884069], [31.386921, 58.88712], [31.381922, 58.89298], [31.372594, 58.904178], [31.372486, 58.904308], [31.358873, 58.920764], [31.357459, 58.92271], [31.356163, 58.924869], [31.356083, 58.92501], [31.353781, 58.929066], [31.352545, 58.931509], [31.351347, 58.93402], [31.350528, 58.936088], [31.349831, 58.938131], [31.348917, 58.941655], [31.347838, 58.948899], [31.347769, 58.952396], [31.347759, 58.952927], [31.347744, 58.953699], [31.347975, 58.95672], [31.348295, 58.959263], [31.349042, 58.963052], [31.349074, 58.963218], [31.349784, 58.966027], [31.35489, 58.980685], [31.35626, 58.984848], [31.356302, 58.98498], [31.358349, 58.992061], [31.36027, 58.999066], [31.361439, 59.003719], [31.362126, 59.006617], [31.363647, 59.013545], [31.364728, 59.018752], [31.365667, 59.023964], [31.365919, 59.025729], [31.366038, 59.026715], [31.366113, 59.027281], [31.366504, 59.029945], [31.366765, 59.031464], [31.367249, 59.034803], [31.367694, 59.038143], [31.368607, 59.047133], [31.368778, 59.049595], [31.368786, 59.049843], [31.368809, 59.050415], [31.369, 59.052434], [31.369212, 59.055407], [31.369615, 59.066656], [31.369635, 59.073161], [31.369427, 59.080241], [31.369424, 59.080373], [31.369366, 59.084355], [31.36918, 59.086808], [31.368769, 59.089119], [31.368477, 59.090374], [31.368091, 59.091611], [31.367418, 59.093373], [31.365252, 59.097495], [31.363923, 59.099527], [31.362409, 59.1015], [31.359421, 59.104682], [31.356814, 59.106998], [31.35404, 59.10912], [31.350704, 59.111461], [31.349446, 59.112264], [31.348642, 59.112742], [31.348447, 59.112858], [31.346404, 59.114072], [31.340475, 59.117451], [31.338264, 59.11867], [31.335395, 59.120289], [31.333983, 59.121085], [31.318592, 59.129879], [31.31567, 59.131583], [31.312983, 59.133346], [31.310116, 59.135548], [31.30782, 59.13751], [31.306368, 59.13885], [31.305213, 59.140017], [31.302333, 59.143412], [31.299355, 59.147503], [31.296104, 59.151907], [31.295007, 59.153394], [31.29405, 59.154689], [31.291934, 59.157556], [31.291077, 59.158724], [31.287336, 59.163824], [31.286769, 59.164597], [31.286734, 59.164644], [31.286267, 59.165272], [31.285873, 59.16581], [31.281763, 59.171421], [31.281608, 59.171628], [31.277449, 59.17722], [31.276091, 59.178968], [31.274612, 59.180715], [31.271805, 59.183643], [31.269037, 59.186471], [31.26333, 59.192193], [31.259451, 59.196175], [31.25532, 59.200364], [31.25069, 59.204982], [31.246577, 59.209207], [31.233498, 59.22234], [31.230827, 59.22492], [31.229013, 59.226407], [31.227166, 59.227744], [31.226838, 59.227957], [31.225809, 59.228626], [31.224126, 59.229626], [31.222842, 59.23039], [31.219193, 59.232313], [31.191925, 59.245366], [31.188229, 59.247286], [31.187537, 59.24765], [31.186111, 59.24835], [31.182831, 59.25047], [31.180459, 59.252092], [31.177134, 59.25474], [31.174013, 59.257621], [31.17023, 59.261741], [31.166523, 59.265869], [31.165508, 59.266937], [31.163688, 59.268945], [31.16243, 59.270353], [31.1575, 59.27579], [31.151493, 59.282366], [31.147705, 59.28657], [31.143855, 59.290727], [31.142212, 59.292616], [31.140286, 59.29448], [31.138789, 59.295821], [31.137266, 59.297095], [31.135426, 59.298478], [31.133867, 59.29963], [31.124145, 59.306491], [31.123804, 59.306721], [31.121661, 59.308219], [31.119263, 59.309782], [31.113335, 59.313796], [31.108346, 59.317444], [31.103287, 59.321053], [31.093127, 59.328204], [31.082232, 59.336075], [31.081984, 59.336252], [31.052489, 59.357318], [31.04912, 59.359815], [31.048839, 59.359997], [31.019478, 59.380445], [31.017775, 59.381631], [31.017468, 59.381854], [31.014987, 59.383674], [31.014674, 59.383907], [31.012156, 59.386034], [31.010252, 59.387993], [31.009051, 59.389523], [31.007975, 59.39094], [31.006615, 59.393068], [31.005455, 59.395345], [31.004697, 59.397184], [31.000389, 59.415414], [30.999996, 59.417051], [30.999577, 59.41882], [30.999137, 59.420752], [30.998483, 59.423502], [30.997714, 59.425408], [30.997459, 59.425908], [30.996443, 59.42747], [30.996172, 59.42788], [30.994816, 59.429687], [30.99268, 59.431972], [30.990053, 59.434252], [30.987035, 59.436343], [30.985177, 59.437458], [30.970736, 59.444704], [30.969595, 59.445252], [30.967153, 59.446426], [30.96401, 59.447823], [30.961264, 59.448871], [30.958354, 59.449844], [30.947793, 59.452863], [30.905872, 59.4642], [30.892885, 59.467747], [30.891613, 59.468101], [30.889674, 59.46865], [30.887325, 59.46937], [30.884817, 59.470204], [30.83351, 59.488372], [30.830266, 59.489689], [30.827025, 59.491069], [30.822959, 59.493054], [30.819093, 59.495174], [30.811012, 59.49983], [30.810402, 59.500181], [30.783394, 59.515718], [30.783208, 59.515825], [30.772708, 59.521844], [30.754008, 59.532822], [30.751275, 59.534416], [30.746945, 59.53693], [30.744169, 59.538566], [30.74139, 59.540316], [30.739305, 59.541919], [30.737395, 59.543549], [30.734343, 59.547117], [30.732718, 59.548865], [30.730106, 59.551126], [30.728709, 59.55215], [30.727529, 59.552926], [30.726243, 59.553684], [30.725332, 59.55417], [30.724439, 59.55462], [30.722534, 59.555501], [30.721038, 59.55612], [30.719136, 59.556813], [30.717186, 59.557486], [30.715207, 59.558094], [30.713067, 59.558657], [30.711814, 59.558957], [30.7105, 59.559238], [30.709198, 59.559503], [30.707999, 59.559722], [30.706838, 59.559921], [30.704191, 59.560339], [30.70237, 59.560666], [30.698775, 59.56143], [30.697188, 59.561808], [30.695776, 59.562181], [30.694666, 59.562495], [30.693491, 59.562857], [30.691251, 59.563608], [30.689997, 59.564059], [30.687582, 59.564991], [30.685962, 59.565643], [30.685619, 59.56579], [30.684383, 59.566355], [30.683696, 59.566701], [30.681366, 59.567947], [30.680099, 59.568697], [30.679378, 59.569151], [30.677076, 59.570785], [30.676136, 59.571508], [30.670865, 59.575733], [30.670453, 59.576067], [30.66738, 59.578566], [30.665152, 59.580362], [30.664463, 59.58094], [30.663455, 59.58189], [30.662646, 59.582789], [30.66203, 59.583496], [30.661391, 59.584286], [30.66086, 59.585011], [30.659961, 59.586494], [30.659092, 59.588159], [30.658357, 59.589644], [30.657986, 59.591072], [30.65768, 59.592827], [30.657619, 59.594309], [30.657269, 59.598506], [30.65726, 59.598636], [30.654992, 59.633045], [30.654913, 59.633855], [30.654815, 59.635987], [30.654564, 59.63829], [30.654261, 59.639759], [30.653974, 59.640949], [30.653893, 59.64114], [30.653052, 59.643032], [30.652359, 59.644268], [30.650999, 59.646388], [30.650096, 59.647546], [30.64904, 59.648698], [30.648057, 59.649642], [30.645293, 59.651879], [30.643245, 59.653302], [30.641599, 59.654295], [30.63665, 59.656917], [30.63645, 59.657026], [30.61922, 59.666294], [30.618807, 59.666514], [30.597942, 59.677569], [30.591816, 59.680859], [30.586633, 59.68369], [30.581815, 59.686437], [30.576632, 59.689434], [30.575888, 59.689867], [30.57359, 59.691203], [30.571993, 59.692141], [30.568793, 59.693976], [30.567257, 59.694827], [30.56606, 59.695462], [30.564273, 59.696372], [30.563541, 59.696732], [30.555502, 59.700633], [30.55367, 59.701549], [30.548716, 59.703962], [30.544817, 59.705867], [30.541582, 59.707498], [30.533968, 59.711555], [30.532691, 59.712214], [30.531477, 59.71288], [30.529011, 59.714154], [30.526593, 59.715433], [30.525294, 59.716084], [30.523939, 59.716811], [30.523507, 59.71705], [30.522876, 59.7174], [30.521731, 59.718079], [30.52062, 59.718779], [30.519562, 59.719502], [30.518558, 59.720237], [30.516709, 59.721764], [30.516233, 59.722203], [30.516019, 59.722579], [30.515504, 59.723089], [30.515441, 59.723184], [30.515394, 59.723303], [30.515392, 59.723413], [30.515409, 59.723503], [30.515484, 59.723626], [30.515593, 59.723734], [30.51583, 59.723896], [30.516086, 59.723996], [30.516311, 59.724055], [30.516531, 59.724091], [30.516761, 59.724113], [30.516969, 59.72411], [30.517228, 59.724087], [30.517717, 59.723978], [30.517902, 59.723897], [30.518101, 59.723779], [30.518385, 59.723529], [30.518557, 59.723257], [30.51859, 59.723108], [30.518594, 59.722945], [30.518494, 59.722644], [30.518383, 59.722492], [30.518259, 59.722371], [30.51798, 59.722161], [30.517806, 59.722065], [30.517286, 59.72186], [30.516012, 59.721476], [30.514162, 59.720934], [30.513773, 59.720851], [30.513504, 59.720811], [30.512924, 59.72076], [30.512285, 59.720774], [30.511954, 59.72081], [30.511532, 59.720889], [30.511172, 59.720982], [30.510859, 59.721091], [30.510466, 59.721307], [30.510244, 59.721518], [30.510036, 59.721792], [30.509935, 59.721993], [30.509873, 59.722114], [30.509377, 59.723111], [30.508738, 59.724172], [30.508091, 59.725068], [30.507774, 59.725537], [30.507722, 59.725712], [30.507746, 59.72591], [30.507793, 59.726033], [30.508019, 59.726342], [30.508362, 59.726605], [30.508545, 59.726711], [30.508953, 59.726885], [30.50952, 59.727044], [30.510585, 59.72727], [30.512505, 59.727659], [30.514671, 59.728124], [30.515198, 59.72826], [30.51684, 59.728737], [30.517535, 59.728961], [30.51822, 59.729234], [30.519554, 59.729814], [30.522189, 59.731032], [30.524384, 59.732123], [30.525183, 59.732531], [30.526305, 59.733126], [30.527093, 59.733438], [30.527671, 59.733529], [30.527935, 59.733529], [30.528231, 59.733499], [30.528468, 59.733441], [30.528672, 59.73337], [30.528864, 59.733269], [30.529009, 59.73315], [30.529078, 59.733059], [30.529122, 59.732953], [30.529118, 59.732819], [30.529053, 59.732663], [30.52894, 59.732551], [30.528743, 59.73242], [30.528367, 59.73229], [30.528164, 59.732254], [30.527918, 59.732236], [30.527705, 59.73224], [30.527475, 59.732269], [30.527252, 59.732316], [30.526738, 59.732502], [30.524922, 59.733485], [30.522113, 59.735002], [30.520667, 59.735812], [30.513256, 59.739764], [30.512119, 59.740407], [30.51039, 59.741386], [30.509703, 59.741768], [30.507834, 59.742886], [30.506176, 59.743836], [30.504646, 59.744664], [30.50349, 59.745261], [30.502778, 59.745629], [30.501294, 59.746374], [30.500282, 59.746869], [30.499827, 59.747105], [30.498839, 59.747618], [30.498699, 59.747691], [30.496963, 59.748592], [30.496668, 59.748745], [30.494165, 59.750045], [30.489832, 59.7524], [30.486219, 59.754364], [30.484742, 59.755165], [30.484697, 59.75519], [30.482967, 59.756129], [30.481832, 59.756742], [30.481349, 59.757005], [30.479312, 59.75811], [30.47819, 59.75871], [30.474286, 59.760833], [30.473269, 59.761375], [30.472412, 59.761834], [30.471872, 59.76212], [30.471445, 59.762351], [30.470151, 59.763047], [30.46987, 59.763198], [30.461113, 59.767919], [30.46093, 59.768018], [30.460419, 59.768291], [30.457142, 59.770086], [30.455094, 59.771164], [30.454147, 59.77169], [30.453239, 59.772162], [30.452042, 59.772805], [30.450232, 59.773782], [30.445454, 59.776344], [30.441265, 59.778605], [30.438282, 59.780223], [30.435461, 59.781751], [30.434004, 59.782535], [30.433594, 59.782761], [30.418247, 59.791038], [30.416595, 59.791915], [30.415319, 59.792626], [30.409057, 59.796008], [30.406108, 59.797629], [30.405619, 59.797887], [30.404645, 59.798416], [30.402362, 59.799646], [30.401487, 59.800101], [30.400528, 59.80061], [30.398846, 59.801524], [30.398348, 59.801791], [30.397858, 59.802059], [30.397385, 59.802317], [30.396955, 59.80256], [30.396269, 59.802932], [30.395249, 59.803502], [30.39399, 59.804196], [30.39324, 59.804652], [30.391942, 59.805511], [30.391323, 59.805899], [30.389761, 59.806773], [30.385936, 59.808822], [30.384741, 59.80949], [30.383992, 59.809922], [30.383421, 59.810299], [30.382602, 59.810941], [30.382576, 59.810965], [30.381862, 59.811536], [30.381813, 59.811578], [30.380956, 59.812612], [30.380813, 59.812841], [30.380598, 59.813312], [30.380504, 59.813657], [30.380461, 59.81405], [30.380468, 59.814257], [30.380592, 59.814818], [30.381118, 59.815958], [30.381375, 59.816643], [30.381469, 59.816995], [30.381474, 59.817184], [30.381418, 59.817618], [30.381276, 59.818051], [30.380681, 59.819146], [30.380249, 59.81994], [30.380051, 59.820302], [30.37989, 59.820679], [30.379572, 59.821567], [30.379469, 59.821841], [30.379379, 59.822065], [30.379245, 59.822391], [30.379145, 59.82261], [30.37895, 59.823019], [30.378658, 59.823549], [30.378419, 59.823902], [30.378192, 59.824226], [30.377628, 59.824963], [30.376859, 59.825894], [30.376011, 59.826893], [30.37582, 59.827152], [30.375317, 59.827822], [30.374832, 59.828679], [30.374444, 59.82957], [30.374275, 59.829928], [30.374248, 59.829979], [30.373864, 59.830737], [30.373463, 59.831614], [30.373264, 59.832242], [30.373187, 59.832554], [30.372951, 59.833319], [30.372671, 59.834193], [30.372498, 59.834718], [30.372425, 59.834948], [30.372299, 59.835288], [30.37224, 59.835447], [30.372165, 59.835621], [30.371784, 59.836535], [30.371506, 59.837127], [30.370529, 59.839085], [30.368908, 59.842309], [30.368782, 59.842589], [30.368461, 59.843425], [30.368016, 59.844302], [30.367965, 59.844406], [30.367029, 59.846082], [30.366597, 59.846942], [30.366241, 59.847664], [30.365838, 59.848512], [30.36573, 59.849119], [30.365727, 59.84955], [30.365783, 59.850335], [30.365674, 59.850741], [30.365396, 59.851414], [30.365214, 59.851815], [30.365048, 59.85209], [30.364808, 59.852609], [30.364741, 59.852758], [30.364558, 59.853167], [30.364353, 59.853731], [30.364087, 59.854289], [30.363973, 59.85452], [30.36384, 59.854713], [30.363383, 59.855218], [30.362501, 59.856121], [30.362293, 59.85633], [30.362182, 59.856485], [30.361815, 59.857162], [30.360681, 59.859316], [30.359538, 59.861486], [30.358141, 59.864115], [30.358071, 59.864217], [30.357642, 59.864876], [30.357172, 59.86581], [30.354338, 59.871482], [30.353998, 59.87217], [30.353477, 59.873204], [30.353182, 59.873779], [30.352902, 59.874196], [30.352644, 59.874472], [30.351527, 59.875669], [30.351106, 59.876127], [30.34956, 59.87779], [30.349281, 59.878076], [30.349157, 59.878189], [30.348781, 59.878594], [30.34864, 59.878761], [30.34826, 59.879226], [30.348116, 59.879407], [30.348026, 59.879529], [30.347558, 59.880357], [30.347472, 59.880513], [30.346999, 59.881339], [30.346618, 59.882017], [30.346236, 59.882692], [30.346082, 59.882968], [30.345791, 59.883476], [30.344953, 59.884977], [30.344649, 59.885606], [30.344589, 59.885841], [30.344505, 59.886814], [30.344549, 59.887286], [30.345069, 59.889095], [30.345105, 59.889223], [30.345196, 59.889693], [30.34518, 59.890108], [30.345137, 59.890265], [30.3445, 59.891596], [30.344151, 59.892317], [30.343896, 59.892865], [30.343645, 59.893411], [30.343557, 59.893568], [30.343192, 59.894544], [30.342898, 59.89512], [30.342731, 59.895484], [30.342288, 59.896508], [30.34176, 59.898028], [30.341394, 59.898697], [30.340502, 59.900639], [30.340215, 59.901126], [30.339897, 59.901572], [30.339643, 59.901821], [30.339105, 59.902347], [30.338742, 59.902697], [30.338544, 59.90289], [30.338076, 59.90335], [30.337635, 59.903801], [30.337538, 59.90396], [30.337507, 59.904101], [30.337515, 59.904307], [30.337588, 59.904383], [30.338108, 59.904887], [30.338131, 59.904985], [30.338117, 59.905042], [30.337855, 59.905537], [30.337596, 59.905923], [30.337396, 59.906162], [30.336663, 59.906909], [30.336265, 59.907319], [30.335742, 59.908023], [30.335445, 59.90859], [30.335259, 59.909156], [30.335223, 59.909341], [30.335187, 59.909655], [30.335182, 59.909935], [30.33517, 59.9101], [30.335109, 59.910394], [30.334782, 59.910975], [30.334545, 59.911336], [30.334313, 59.911656], [30.334177, 59.911801], [30.333819, 59.912116], [30.333753, 59.912171], [30.333464, 59.912406], [30.333365, 59.912488], [30.332942, 59.912821], [30.332811, 59.912918], [30.332691, 59.913011], [30.3325, 59.913167], [30.332377, 59.91326], [30.333329, 59.913604], [30.333789, 59.913772], [30.334315, 59.913995], [30.335583, 59.914456], [30.336083, 59.914646], [30.336048, 59.914748], [30.335719, 59.91509], [30.335673, 59.91514], [30.335585, 59.915234], [30.335299, 59.915599], [30.335131, 59.915858], [30.334989, 59.916089], [30.334935, 59.916171], [30.334735, 59.916488], [30.33451, 59.916843], [30.334193, 59.917275], [30.33384, 59.917727], [30.333651, 59.917953], [30.333529, 59.918072], [30.333229, 59.918393], [30.333067, 59.918567], [30.332715, 59.918944], [30.33252, 59.919148], [30.332324, 59.919355], [30.332196, 59.919492], [30.332127, 59.919564], [30.331862, 59.919823], [30.331731, 59.91991], [30.331428, 59.92007], [30.331264, 59.920111], [30.330433, 59.920628], [30.32979, 59.921032], [30.330553, 59.92134], [30.331698, 59.921798], [30.331917, 59.921887], [30.331832, 59.922014], [30.331406, 59.922299], [30.331038, 59.922543], [30.330768, 59.922725], [30.330331, 59.923016], [30.330075, 59.923187], [30.329852, 59.923335], [30.329571, 59.923522], [30.329519, 59.923558], [30.32907, 59.923857], [30.328971, 59.923912], [30.328772, 59.924031], [30.328305, 59.924343], [30.327952, 59.924579], [30.32745, 59.924906], [30.327342, 59.924967], [30.326762, 59.925351], [30.326673, 59.925408], [30.326395, 59.925587], [30.326034, 59.92583], [30.32573, 59.926034], [30.324893, 59.926597], [30.324863, 59.926617], [30.324518, 59.926849], [30.324374, 59.926946], [30.324081, 59.927143], [30.323763, 59.927357], [30.323394, 59.927603], [30.323215, 59.927723], [30.322965, 59.92789], [30.322631, 59.928114], [30.322611, 59.928127], [30.322428, 59.92825], [30.322051, 59.928502], [30.323502, 59.929116], [30.324141, 59.929385], [30.329356, 59.931576], [30.330597, 59.932098], [30.331748, 59.932581], [30.332641, 59.932956], [30.334074, 59.933558], [30.334795, 59.933862], [30.334912, 59.933916], [30.335053, 59.934023], [30.335165, 59.934206], [30.335222, 59.934319], [30.335053, 59.93434], [30.335038, 59.934308]], &quot;type&quot;: &quot;LineString&quot;});\n",
       "\n",
       "        \n",
       "    \n",
       "            var marker_b141d1a6c75784e996c3fd7bc92e4d9e = L.marker(\n",
       "                [55.7558, 37.6176],\n",
       "                {}\n",
       "            ).addTo(map_a8f109d8876bbf7f2833409e4308b18c);\n",
       "        \n",
       "    \n",
       "            var icon_3f1e71c46b3d87b5a9bc5bd366bb3a63 = L.AwesomeMarkers.icon(\n",
       "                {&quot;extraClasses&quot;: &quot;fa-rotate-0&quot;, &quot;icon&quot;: &quot;info-sign&quot;, &quot;iconColor&quot;: &quot;white&quot;, &quot;markerColor&quot;: &quot;green&quot;, &quot;prefix&quot;: &quot;glyphicon&quot;}\n",
       "            );\n",
       "            marker_b141d1a6c75784e996c3fd7bc92e4d9e.setIcon(icon_3f1e71c46b3d87b5a9bc5bd366bb3a63);\n",
       "        \n",
       "    \n",
       "        var popup_7390b9db19d69ea74096352a1d9d11c4 = L.popup({&quot;maxWidth&quot;: &quot;100%&quot;});\n",
       "\n",
       "        \n",
       "            \n",
       "                var html_b9b697fda111a9b502bab16a1e99d3a2 = $(`&lt;div id=&quot;html_b9b697fda111a9b502bab16a1e99d3a2&quot; style=&quot;width: 100.0%; height: 100.0%;&quot;&gt;Начальная точка&lt;/div&gt;`)[0];\n",
       "                popup_7390b9db19d69ea74096352a1d9d11c4.setContent(html_b9b697fda111a9b502bab16a1e99d3a2);\n",
       "            \n",
       "        \n",
       "\n",
       "        marker_b141d1a6c75784e996c3fd7bc92e4d9e.bindPopup(popup_7390b9db19d69ea74096352a1d9d11c4)\n",
       "        ;\n",
       "\n",
       "        \n",
       "    \n",
       "    \n",
       "            var marker_30d7fcd46012319a994e460588b98a9b = L.marker(\n",
       "                [59.9343, 30.3351],\n",
       "                {}\n",
       "            ).addTo(map_a8f109d8876bbf7f2833409e4308b18c);\n",
       "        \n",
       "    \n",
       "            var icon_6671f688b92b2aedbc8557e0290b414e = L.AwesomeMarkers.icon(\n",
       "                {&quot;extraClasses&quot;: &quot;fa-rotate-0&quot;, &quot;icon&quot;: &quot;info-sign&quot;, &quot;iconColor&quot;: &quot;white&quot;, &quot;markerColor&quot;: &quot;red&quot;, &quot;prefix&quot;: &quot;glyphicon&quot;}\n",
       "            );\n",
       "            marker_30d7fcd46012319a994e460588b98a9b.setIcon(icon_6671f688b92b2aedbc8557e0290b414e);\n",
       "        \n",
       "    \n",
       "        var popup_1094c3a2fa2ce1827eb0d24b1d6d6566 = L.popup({&quot;maxWidth&quot;: &quot;100%&quot;});\n",
       "\n",
       "        \n",
       "            \n",
       "                var html_4999dc42a65730c0568db80db7c3da3d = $(`&lt;div id=&quot;html_4999dc42a65730c0568db80db7c3da3d&quot; style=&quot;width: 100.0%; height: 100.0%;&quot;&gt;Конечная точка&lt;/div&gt;`)[0];\n",
       "                popup_1094c3a2fa2ce1827eb0d24b1d6d6566.setContent(html_4999dc42a65730c0568db80db7c3da3d);\n",
       "            \n",
       "        \n",
       "\n",
       "        marker_30d7fcd46012319a994e460588b98a9b.bindPopup(popup_1094c3a2fa2ce1827eb0d24b1d6d6566)\n",
       "        ;\n",
       "\n",
       "        \n",
       "    \n",
       "&lt;/script&gt;\n",
       "&lt;/html&gt;\" style=\"position:absolute;width:100%;height:100%;left:0;top:0;border:none !important;\" allowfullscreen webkitallowfullscreen mozallowfullscreen></iframe></div></div>"
      ],
      "text/plain": [
       "<folium.folium.Map at 0x131a5c850>"
      ]
     },
     "execution_count": 137,
     "metadata": {},
     "output_type": "execute_result"
    }
   ],
   "source": [
    "# визуализируем результат (маршрут Москва - Санкт-Петербург):\n",
    "import folium\n",
    "m = folium.Map(location=[55.7558, 37.6176], zoom_start=5)\n",
    "folium.GeoJson(route, name=\"Маршрут\").add_to(m)\n",
    "folium.Marker([latitude1, longitude1], popup=\"Начальная точка\", icon=folium.Icon(color='green')).add_to(m)\n",
    "folium.Marker([latitude2, longitude2], popup=\"Конечная точка\", icon=folium.Icon(color='red')).add_to(m)\n",
    "m"
   ]
  },
  {
   "cell_type": "code",
   "execution_count": null,
   "id": "f0c84617-c68d-47af-ba0c-62a9833e8c64",
   "metadata": {},
   "outputs": [],
   "source": []
  }
 ],
 "metadata": {
  "kernelspec": {
   "display_name": "Python 3 (ipykernel)",
   "language": "python",
   "name": "python3"
  },
  "language_info": {
   "codemirror_mode": {
    "name": "ipython",
    "version": 3
   },
   "file_extension": ".py",
   "mimetype": "text/x-python",
   "name": "python",
   "nbconvert_exporter": "python",
   "pygments_lexer": "ipython3",
   "version": "3.11.5"
  }
 },
 "nbformat": 4,
 "nbformat_minor": 5
}
